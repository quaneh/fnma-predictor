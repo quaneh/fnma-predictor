{
  "nbformat": 4,
  "nbformat_minor": 0,
  "metadata": {
    "colab": {
      "provenance": [],
      "gpuType": "T4",
      "include_colab_link": true
    },
    "kernelspec": {
      "name": "python3",
      "display_name": "Python 3"
    },
    "language_info": {
      "name": "python"
    },
    "accelerator": "GPU"
  },
  "cells": [
    {
      "cell_type": "markdown",
      "metadata": {
        "id": "view-in-github",
        "colab_type": "text"
      },
      "source": [
        "<a href=\"https://colab.research.google.com/github/quaneh/fnma-predictor/blob/main/fnma_predictor.ipynb\" target=\"_parent\"><img src=\"https://colab.research.google.com/assets/colab-badge.svg\" alt=\"Open In Colab\"/></a>"
      ]
    },
    {
      "cell_type": "markdown",
      "source": [
        "## Setup & Imports\n",
        "* We need to download Optuna for hyperparameter tuning"
      ],
      "metadata": {
        "id": "ga-LvTWt27Wa"
      }
    },
    {
      "cell_type": "code",
      "source": [
        "!pip install --quiet optuna"
      ],
      "metadata": {
        "colab": {
          "base_uri": "https://localhost:8080/"
        },
        "id": "jzE19NYgbcs5",
        "outputId": "946ad097-8bb7-4423-8247-27bbff1a9b80"
      },
      "execution_count": 2,
      "outputs": [
        {
          "output_type": "stream",
          "name": "stdout",
          "text": [
            "\u001b[2K     \u001b[90m━━━━━━━━━━━━━━━━━━━━━━━━━━━━━━━━━━━━━━━━\u001b[0m \u001b[32m413.4/413.4 kB\u001b[0m \u001b[31m9.3 MB/s\u001b[0m eta \u001b[36m0:00:00\u001b[0m\n",
            "\u001b[2K     \u001b[90m━━━━━━━━━━━━━━━━━━━━━━━━━━━━━━━━━━━━━━━━\u001b[0m \u001b[32m233.4/233.4 kB\u001b[0m \u001b[31m28.5 MB/s\u001b[0m eta \u001b[36m0:00:00\u001b[0m\n",
            "\u001b[2K     \u001b[90m━━━━━━━━━━━━━━━━━━━━━━━━━━━━━━━━━━━━━━━━\u001b[0m \u001b[32m78.7/78.7 kB\u001b[0m \u001b[31m11.1 MB/s\u001b[0m eta \u001b[36m0:00:00\u001b[0m\n",
            "\u001b[?25h"
          ]
        }
      ]
    },
    {
      "cell_type": "code",
      "source": [
        "import optuna\n",
        "\n",
        "import numpy as np\n",
        "import pandas as pd\n",
        "\n",
        "from sklearn.model_selection import train_test_split\n",
        "from sklearn.metrics import classification_report, confusion_matrix, roc_curve, auc, mean_squared_error, accuracy_score\n",
        "\n",
        "import xgboost as xgb\n",
        "\n",
        "import matplotlib.pyplot as plt\n",
        "%matplotlib inline\n",
        "\n",
        "import seaborn as sns"
      ],
      "metadata": {
        "id": "cfJnlU9WQ0EZ"
      },
      "execution_count": 3,
      "outputs": []
    },
    {
      "cell_type": "markdown",
      "source": [
        "## Load and Process Data"
      ],
      "metadata": {
        "id": "o1gEs2Ol3ABp"
      }
    },
    {
      "cell_type": "code",
      "source": [
        "df = pd.read_csv('https://raw.githubusercontent.com/quaneh/fnma-predictor/main/data/fnma_2007q4_semi_processed.csv', index_col=0)"
      ],
      "metadata": {
        "id": "c0nrNA6RFDGn"
      },
      "execution_count": 4,
      "outputs": []
    },
    {
      "cell_type": "markdown",
      "source": [
        "Remove columns that will not contribute to our model"
      ],
      "metadata": {
        "id": "YET3p9UsRxrh"
      }
    },
    {
      "cell_type": "code",
      "source": [
        "drop_cols = ['LOAN_ID','PPMT_FLG', 'IO', 'Zero_Bal_Code', 'ZB_DTE', 'LAST_UPB','RE_PROCS_FLAG', 'PRODUCT', 'HOMEREADY_PROGRAM_INDICATOR', 'HIGH_BALANCE_LOAN_INDICATOR',\n",
        "             'HIGH_LOAN_TO_VALUE_HLTV_REFINANCE_OPTION_INDICATOR', ]\n",
        "df = df.drop(drop_cols, axis=1)"
      ],
      "metadata": {
        "id": "a1Bv0iXgK2mm"
      },
      "execution_count": 5,
      "outputs": []
    },
    {
      "cell_type": "markdown",
      "source": [
        "Remove further columns that could not be known before the loan is approved or disapproved.\n",
        "\n",
        "Delinquency status can only be know for a loan that has been approved and is now being repaid, and the same applies for Current Unpaid Balance."
      ],
      "metadata": {
        "id": "GMwFBq5QqxGe"
      }
    },
    {
      "cell_type": "code",
      "source": [
        "drop_cols = ['DLQ_STATUS', 'CURRENT_UPB']\n",
        "df = df.drop(drop_cols, axis=1)"
      ],
      "metadata": {
        "id": "rRcS0KVbq2fm"
      },
      "execution_count": 6,
      "outputs": []
    },
    {
      "cell_type": "code",
      "source": [
        "df"
      ],
      "metadata": {
        "colab": {
          "base_uri": "https://localhost:8080/",
          "height": 635
        },
        "id": "FTNqQfyJ-EFF",
        "outputId": "d4dfd192-ba5c-45b1-cf25-ec6c67d33002"
      },
      "execution_count": 7,
      "outputs": [
        {
          "output_type": "execute_result",
          "data": {
            "text/plain": [
              "        ACT_PERIOD CHANNEL                 SELLER  ORIG_RATE  ORIG_UPB  \\\n",
              "0            12009       C  Bank Of America, N.A.      6.625  343000.0   \n",
              "1            82013       C  Bank Of America, N.A.      6.250  400000.0   \n",
              "2           102021       B                  Other      6.625   81000.0   \n",
              "3           122015       B           Amtrust Bank      6.500  119000.0   \n",
              "4            62019       B  Bank Of America, N.A.      6.625  205000.0   \n",
              "...            ...     ...                    ...        ...       ...   \n",
              "391178       52008       R                  Other      6.500  139000.0   \n",
              "391179       62009       R                  Other      6.375   47000.0   \n",
              "391180       22015       C     Citimortgage, Inc.      6.125  135000.0   \n",
              "391181       12010       B  Bank Of America, N.A.      6.250  344000.0   \n",
              "391182       52015       B         Pnc Bank, N.A.      6.750  360000.0   \n",
              "\n",
              "        ORIG_TERM  ORIG_DATE  FIRST_PAY  OLTV  OCLTV  ...  FIRST_FLAG  \\\n",
              "0             360     102007     122007    86   86.0  ...           N   \n",
              "1             360     102007     122007    62   62.0  ...           N   \n",
              "2             360     112007      12008    64   82.0  ...           N   \n",
              "3             360     112007      12008    71   71.0  ...           N   \n",
              "4             360     102007     122007    27   27.0  ...           N   \n",
              "...           ...        ...        ...   ...    ...  ...         ...   \n",
              "391178        360     112007      12008    58   58.0  ...           N   \n",
              "391179        180      12007      32007    76   76.0  ...           N   \n",
              "391180        360     112007      12008    56   56.0  ...           N   \n",
              "391181        360     112007      12008    80   80.0  ...           N   \n",
              "391182        360      92007     112007    38   38.0  ...           N   \n",
              "\n",
              "        PURPOSE  PROP  NO_UNITS OCC_STAT STATE    MSA    ZIP  \\\n",
              "0             C    PU         1        P    CO  17820  809.0   \n",
              "1             P    SF         1        P    CA  41740  920.0   \n",
              "2             R    SF         1        P    LA  12940  708.0   \n",
              "3             R    CO         1        P    IL  16980  600.0   \n",
              "4             C    SF         1        P    CA  31080  907.0   \n",
              "...         ...   ...       ...      ...   ...    ...    ...   \n",
              "391178        P    PU         1        P    MO  28140  641.0   \n",
              "391179        R    SF         1        P    OH  17460  441.0   \n",
              "391180        P    CO         1        I    CA  37100  913.0   \n",
              "391181        C    SF         1        P    PA      0  155.0   \n",
              "391182        C    SF         1        P    FL  33100  330.0   \n",
              "\n",
              "       RELOCATION_MORTGAGE_INDICATOR HAS_DEFAULTED  \n",
              "0                                  N             0  \n",
              "1                                  N             0  \n",
              "2                                  N             0  \n",
              "3                                  N             0  \n",
              "4                                  N             0  \n",
              "...                              ...           ...  \n",
              "391178                             N             0  \n",
              "391179                             N             0  \n",
              "391180                             N             0  \n",
              "391181                             N             0  \n",
              "391182                             N             0  \n",
              "\n",
              "[391181 rows x 24 columns]"
            ],
            "text/html": [
              "\n",
              "  <div id=\"df-8e000a33-a5c1-4730-9646-94a89b536cca\" class=\"colab-df-container\">\n",
              "    <div>\n",
              "<style scoped>\n",
              "    .dataframe tbody tr th:only-of-type {\n",
              "        vertical-align: middle;\n",
              "    }\n",
              "\n",
              "    .dataframe tbody tr th {\n",
              "        vertical-align: top;\n",
              "    }\n",
              "\n",
              "    .dataframe thead th {\n",
              "        text-align: right;\n",
              "    }\n",
              "</style>\n",
              "<table border=\"1\" class=\"dataframe\">\n",
              "  <thead>\n",
              "    <tr style=\"text-align: right;\">\n",
              "      <th></th>\n",
              "      <th>ACT_PERIOD</th>\n",
              "      <th>CHANNEL</th>\n",
              "      <th>SELLER</th>\n",
              "      <th>ORIG_RATE</th>\n",
              "      <th>ORIG_UPB</th>\n",
              "      <th>ORIG_TERM</th>\n",
              "      <th>ORIG_DATE</th>\n",
              "      <th>FIRST_PAY</th>\n",
              "      <th>OLTV</th>\n",
              "      <th>OCLTV</th>\n",
              "      <th>...</th>\n",
              "      <th>FIRST_FLAG</th>\n",
              "      <th>PURPOSE</th>\n",
              "      <th>PROP</th>\n",
              "      <th>NO_UNITS</th>\n",
              "      <th>OCC_STAT</th>\n",
              "      <th>STATE</th>\n",
              "      <th>MSA</th>\n",
              "      <th>ZIP</th>\n",
              "      <th>RELOCATION_MORTGAGE_INDICATOR</th>\n",
              "      <th>HAS_DEFAULTED</th>\n",
              "    </tr>\n",
              "  </thead>\n",
              "  <tbody>\n",
              "    <tr>\n",
              "      <th>0</th>\n",
              "      <td>12009</td>\n",
              "      <td>C</td>\n",
              "      <td>Bank Of America, N.A.</td>\n",
              "      <td>6.625</td>\n",
              "      <td>343000.0</td>\n",
              "      <td>360</td>\n",
              "      <td>102007</td>\n",
              "      <td>122007</td>\n",
              "      <td>86</td>\n",
              "      <td>86.0</td>\n",
              "      <td>...</td>\n",
              "      <td>N</td>\n",
              "      <td>C</td>\n",
              "      <td>PU</td>\n",
              "      <td>1</td>\n",
              "      <td>P</td>\n",
              "      <td>CO</td>\n",
              "      <td>17820</td>\n",
              "      <td>809.0</td>\n",
              "      <td>N</td>\n",
              "      <td>0</td>\n",
              "    </tr>\n",
              "    <tr>\n",
              "      <th>1</th>\n",
              "      <td>82013</td>\n",
              "      <td>C</td>\n",
              "      <td>Bank Of America, N.A.</td>\n",
              "      <td>6.250</td>\n",
              "      <td>400000.0</td>\n",
              "      <td>360</td>\n",
              "      <td>102007</td>\n",
              "      <td>122007</td>\n",
              "      <td>62</td>\n",
              "      <td>62.0</td>\n",
              "      <td>...</td>\n",
              "      <td>N</td>\n",
              "      <td>P</td>\n",
              "      <td>SF</td>\n",
              "      <td>1</td>\n",
              "      <td>P</td>\n",
              "      <td>CA</td>\n",
              "      <td>41740</td>\n",
              "      <td>920.0</td>\n",
              "      <td>N</td>\n",
              "      <td>0</td>\n",
              "    </tr>\n",
              "    <tr>\n",
              "      <th>2</th>\n",
              "      <td>102021</td>\n",
              "      <td>B</td>\n",
              "      <td>Other</td>\n",
              "      <td>6.625</td>\n",
              "      <td>81000.0</td>\n",
              "      <td>360</td>\n",
              "      <td>112007</td>\n",
              "      <td>12008</td>\n",
              "      <td>64</td>\n",
              "      <td>82.0</td>\n",
              "      <td>...</td>\n",
              "      <td>N</td>\n",
              "      <td>R</td>\n",
              "      <td>SF</td>\n",
              "      <td>1</td>\n",
              "      <td>P</td>\n",
              "      <td>LA</td>\n",
              "      <td>12940</td>\n",
              "      <td>708.0</td>\n",
              "      <td>N</td>\n",
              "      <td>0</td>\n",
              "    </tr>\n",
              "    <tr>\n",
              "      <th>3</th>\n",
              "      <td>122015</td>\n",
              "      <td>B</td>\n",
              "      <td>Amtrust Bank</td>\n",
              "      <td>6.500</td>\n",
              "      <td>119000.0</td>\n",
              "      <td>360</td>\n",
              "      <td>112007</td>\n",
              "      <td>12008</td>\n",
              "      <td>71</td>\n",
              "      <td>71.0</td>\n",
              "      <td>...</td>\n",
              "      <td>N</td>\n",
              "      <td>R</td>\n",
              "      <td>CO</td>\n",
              "      <td>1</td>\n",
              "      <td>P</td>\n",
              "      <td>IL</td>\n",
              "      <td>16980</td>\n",
              "      <td>600.0</td>\n",
              "      <td>N</td>\n",
              "      <td>0</td>\n",
              "    </tr>\n",
              "    <tr>\n",
              "      <th>4</th>\n",
              "      <td>62019</td>\n",
              "      <td>B</td>\n",
              "      <td>Bank Of America, N.A.</td>\n",
              "      <td>6.625</td>\n",
              "      <td>205000.0</td>\n",
              "      <td>360</td>\n",
              "      <td>102007</td>\n",
              "      <td>122007</td>\n",
              "      <td>27</td>\n",
              "      <td>27.0</td>\n",
              "      <td>...</td>\n",
              "      <td>N</td>\n",
              "      <td>C</td>\n",
              "      <td>SF</td>\n",
              "      <td>1</td>\n",
              "      <td>P</td>\n",
              "      <td>CA</td>\n",
              "      <td>31080</td>\n",
              "      <td>907.0</td>\n",
              "      <td>N</td>\n",
              "      <td>0</td>\n",
              "    </tr>\n",
              "    <tr>\n",
              "      <th>...</th>\n",
              "      <td>...</td>\n",
              "      <td>...</td>\n",
              "      <td>...</td>\n",
              "      <td>...</td>\n",
              "      <td>...</td>\n",
              "      <td>...</td>\n",
              "      <td>...</td>\n",
              "      <td>...</td>\n",
              "      <td>...</td>\n",
              "      <td>...</td>\n",
              "      <td>...</td>\n",
              "      <td>...</td>\n",
              "      <td>...</td>\n",
              "      <td>...</td>\n",
              "      <td>...</td>\n",
              "      <td>...</td>\n",
              "      <td>...</td>\n",
              "      <td>...</td>\n",
              "      <td>...</td>\n",
              "      <td>...</td>\n",
              "      <td>...</td>\n",
              "    </tr>\n",
              "    <tr>\n",
              "      <th>391178</th>\n",
              "      <td>52008</td>\n",
              "      <td>R</td>\n",
              "      <td>Other</td>\n",
              "      <td>6.500</td>\n",
              "      <td>139000.0</td>\n",
              "      <td>360</td>\n",
              "      <td>112007</td>\n",
              "      <td>12008</td>\n",
              "      <td>58</td>\n",
              "      <td>58.0</td>\n",
              "      <td>...</td>\n",
              "      <td>N</td>\n",
              "      <td>P</td>\n",
              "      <td>PU</td>\n",
              "      <td>1</td>\n",
              "      <td>P</td>\n",
              "      <td>MO</td>\n",
              "      <td>28140</td>\n",
              "      <td>641.0</td>\n",
              "      <td>N</td>\n",
              "      <td>0</td>\n",
              "    </tr>\n",
              "    <tr>\n",
              "      <th>391179</th>\n",
              "      <td>62009</td>\n",
              "      <td>R</td>\n",
              "      <td>Other</td>\n",
              "      <td>6.375</td>\n",
              "      <td>47000.0</td>\n",
              "      <td>180</td>\n",
              "      <td>12007</td>\n",
              "      <td>32007</td>\n",
              "      <td>76</td>\n",
              "      <td>76.0</td>\n",
              "      <td>...</td>\n",
              "      <td>N</td>\n",
              "      <td>R</td>\n",
              "      <td>SF</td>\n",
              "      <td>1</td>\n",
              "      <td>P</td>\n",
              "      <td>OH</td>\n",
              "      <td>17460</td>\n",
              "      <td>441.0</td>\n",
              "      <td>N</td>\n",
              "      <td>0</td>\n",
              "    </tr>\n",
              "    <tr>\n",
              "      <th>391180</th>\n",
              "      <td>22015</td>\n",
              "      <td>C</td>\n",
              "      <td>Citimortgage, Inc.</td>\n",
              "      <td>6.125</td>\n",
              "      <td>135000.0</td>\n",
              "      <td>360</td>\n",
              "      <td>112007</td>\n",
              "      <td>12008</td>\n",
              "      <td>56</td>\n",
              "      <td>56.0</td>\n",
              "      <td>...</td>\n",
              "      <td>N</td>\n",
              "      <td>P</td>\n",
              "      <td>CO</td>\n",
              "      <td>1</td>\n",
              "      <td>I</td>\n",
              "      <td>CA</td>\n",
              "      <td>37100</td>\n",
              "      <td>913.0</td>\n",
              "      <td>N</td>\n",
              "      <td>0</td>\n",
              "    </tr>\n",
              "    <tr>\n",
              "      <th>391181</th>\n",
              "      <td>12010</td>\n",
              "      <td>B</td>\n",
              "      <td>Bank Of America, N.A.</td>\n",
              "      <td>6.250</td>\n",
              "      <td>344000.0</td>\n",
              "      <td>360</td>\n",
              "      <td>112007</td>\n",
              "      <td>12008</td>\n",
              "      <td>80</td>\n",
              "      <td>80.0</td>\n",
              "      <td>...</td>\n",
              "      <td>N</td>\n",
              "      <td>C</td>\n",
              "      <td>SF</td>\n",
              "      <td>1</td>\n",
              "      <td>P</td>\n",
              "      <td>PA</td>\n",
              "      <td>0</td>\n",
              "      <td>155.0</td>\n",
              "      <td>N</td>\n",
              "      <td>0</td>\n",
              "    </tr>\n",
              "    <tr>\n",
              "      <th>391182</th>\n",
              "      <td>52015</td>\n",
              "      <td>B</td>\n",
              "      <td>Pnc Bank, N.A.</td>\n",
              "      <td>6.750</td>\n",
              "      <td>360000.0</td>\n",
              "      <td>360</td>\n",
              "      <td>92007</td>\n",
              "      <td>112007</td>\n",
              "      <td>38</td>\n",
              "      <td>38.0</td>\n",
              "      <td>...</td>\n",
              "      <td>N</td>\n",
              "      <td>C</td>\n",
              "      <td>SF</td>\n",
              "      <td>1</td>\n",
              "      <td>P</td>\n",
              "      <td>FL</td>\n",
              "      <td>33100</td>\n",
              "      <td>330.0</td>\n",
              "      <td>N</td>\n",
              "      <td>0</td>\n",
              "    </tr>\n",
              "  </tbody>\n",
              "</table>\n",
              "<p>391181 rows × 24 columns</p>\n",
              "</div>\n",
              "    <div class=\"colab-df-buttons\">\n",
              "\n",
              "  <div class=\"colab-df-container\">\n",
              "    <button class=\"colab-df-convert\" onclick=\"convertToInteractive('df-8e000a33-a5c1-4730-9646-94a89b536cca')\"\n",
              "            title=\"Convert this dataframe to an interactive table.\"\n",
              "            style=\"display:none;\">\n",
              "\n",
              "  <svg xmlns=\"http://www.w3.org/2000/svg\" height=\"24px\" viewBox=\"0 -960 960 960\">\n",
              "    <path d=\"M120-120v-720h720v720H120Zm60-500h600v-160H180v160Zm220 220h160v-160H400v160Zm0 220h160v-160H400v160ZM180-400h160v-160H180v160Zm440 0h160v-160H620v160ZM180-180h160v-160H180v160Zm440 0h160v-160H620v160Z\"/>\n",
              "  </svg>\n",
              "    </button>\n",
              "\n",
              "  <style>\n",
              "    .colab-df-container {\n",
              "      display:flex;\n",
              "      gap: 12px;\n",
              "    }\n",
              "\n",
              "    .colab-df-convert {\n",
              "      background-color: #E8F0FE;\n",
              "      border: none;\n",
              "      border-radius: 50%;\n",
              "      cursor: pointer;\n",
              "      display: none;\n",
              "      fill: #1967D2;\n",
              "      height: 32px;\n",
              "      padding: 0 0 0 0;\n",
              "      width: 32px;\n",
              "    }\n",
              "\n",
              "    .colab-df-convert:hover {\n",
              "      background-color: #E2EBFA;\n",
              "      box-shadow: 0px 1px 2px rgba(60, 64, 67, 0.3), 0px 1px 3px 1px rgba(60, 64, 67, 0.15);\n",
              "      fill: #174EA6;\n",
              "    }\n",
              "\n",
              "    .colab-df-buttons div {\n",
              "      margin-bottom: 4px;\n",
              "    }\n",
              "\n",
              "    [theme=dark] .colab-df-convert {\n",
              "      background-color: #3B4455;\n",
              "      fill: #D2E3FC;\n",
              "    }\n",
              "\n",
              "    [theme=dark] .colab-df-convert:hover {\n",
              "      background-color: #434B5C;\n",
              "      box-shadow: 0px 1px 3px 1px rgba(0, 0, 0, 0.15);\n",
              "      filter: drop-shadow(0px 1px 2px rgba(0, 0, 0, 0.3));\n",
              "      fill: #FFFFFF;\n",
              "    }\n",
              "  </style>\n",
              "\n",
              "    <script>\n",
              "      const buttonEl =\n",
              "        document.querySelector('#df-8e000a33-a5c1-4730-9646-94a89b536cca button.colab-df-convert');\n",
              "      buttonEl.style.display =\n",
              "        google.colab.kernel.accessAllowed ? 'block' : 'none';\n",
              "\n",
              "      async function convertToInteractive(key) {\n",
              "        const element = document.querySelector('#df-8e000a33-a5c1-4730-9646-94a89b536cca');\n",
              "        const dataTable =\n",
              "          await google.colab.kernel.invokeFunction('convertToInteractive',\n",
              "                                                    [key], {});\n",
              "        if (!dataTable) return;\n",
              "\n",
              "        const docLinkHtml = 'Like what you see? Visit the ' +\n",
              "          '<a target=\"_blank\" href=https://colab.research.google.com/notebooks/data_table.ipynb>data table notebook</a>'\n",
              "          + ' to learn more about interactive tables.';\n",
              "        element.innerHTML = '';\n",
              "        dataTable['output_type'] = 'display_data';\n",
              "        await google.colab.output.renderOutput(dataTable, element);\n",
              "        const docLink = document.createElement('div');\n",
              "        docLink.innerHTML = docLinkHtml;\n",
              "        element.appendChild(docLink);\n",
              "      }\n",
              "    </script>\n",
              "  </div>\n",
              "\n",
              "\n",
              "<div id=\"df-6fb7f2c6-3490-4331-a31d-e3774f08e3e0\">\n",
              "  <button class=\"colab-df-quickchart\" onclick=\"quickchart('df-6fb7f2c6-3490-4331-a31d-e3774f08e3e0')\"\n",
              "            title=\"Suggest charts\"\n",
              "            style=\"display:none;\">\n",
              "\n",
              "<svg xmlns=\"http://www.w3.org/2000/svg\" height=\"24px\"viewBox=\"0 0 24 24\"\n",
              "     width=\"24px\">\n",
              "    <g>\n",
              "        <path d=\"M19 3H5c-1.1 0-2 .9-2 2v14c0 1.1.9 2 2 2h14c1.1 0 2-.9 2-2V5c0-1.1-.9-2-2-2zM9 17H7v-7h2v7zm4 0h-2V7h2v10zm4 0h-2v-4h2v4z\"/>\n",
              "    </g>\n",
              "</svg>\n",
              "  </button>\n",
              "\n",
              "<style>\n",
              "  .colab-df-quickchart {\n",
              "      --bg-color: #E8F0FE;\n",
              "      --fill-color: #1967D2;\n",
              "      --hover-bg-color: #E2EBFA;\n",
              "      --hover-fill-color: #174EA6;\n",
              "      --disabled-fill-color: #AAA;\n",
              "      --disabled-bg-color: #DDD;\n",
              "  }\n",
              "\n",
              "  [theme=dark] .colab-df-quickchart {\n",
              "      --bg-color: #3B4455;\n",
              "      --fill-color: #D2E3FC;\n",
              "      --hover-bg-color: #434B5C;\n",
              "      --hover-fill-color: #FFFFFF;\n",
              "      --disabled-bg-color: #3B4455;\n",
              "      --disabled-fill-color: #666;\n",
              "  }\n",
              "\n",
              "  .colab-df-quickchart {\n",
              "    background-color: var(--bg-color);\n",
              "    border: none;\n",
              "    border-radius: 50%;\n",
              "    cursor: pointer;\n",
              "    display: none;\n",
              "    fill: var(--fill-color);\n",
              "    height: 32px;\n",
              "    padding: 0;\n",
              "    width: 32px;\n",
              "  }\n",
              "\n",
              "  .colab-df-quickchart:hover {\n",
              "    background-color: var(--hover-bg-color);\n",
              "    box-shadow: 0 1px 2px rgba(60, 64, 67, 0.3), 0 1px 3px 1px rgba(60, 64, 67, 0.15);\n",
              "    fill: var(--button-hover-fill-color);\n",
              "  }\n",
              "\n",
              "  .colab-df-quickchart-complete:disabled,\n",
              "  .colab-df-quickchart-complete:disabled:hover {\n",
              "    background-color: var(--disabled-bg-color);\n",
              "    fill: var(--disabled-fill-color);\n",
              "    box-shadow: none;\n",
              "  }\n",
              "\n",
              "  .colab-df-spinner {\n",
              "    border: 2px solid var(--fill-color);\n",
              "    border-color: transparent;\n",
              "    border-bottom-color: var(--fill-color);\n",
              "    animation:\n",
              "      spin 1s steps(1) infinite;\n",
              "  }\n",
              "\n",
              "  @keyframes spin {\n",
              "    0% {\n",
              "      border-color: transparent;\n",
              "      border-bottom-color: var(--fill-color);\n",
              "      border-left-color: var(--fill-color);\n",
              "    }\n",
              "    20% {\n",
              "      border-color: transparent;\n",
              "      border-left-color: var(--fill-color);\n",
              "      border-top-color: var(--fill-color);\n",
              "    }\n",
              "    30% {\n",
              "      border-color: transparent;\n",
              "      border-left-color: var(--fill-color);\n",
              "      border-top-color: var(--fill-color);\n",
              "      border-right-color: var(--fill-color);\n",
              "    }\n",
              "    40% {\n",
              "      border-color: transparent;\n",
              "      border-right-color: var(--fill-color);\n",
              "      border-top-color: var(--fill-color);\n",
              "    }\n",
              "    60% {\n",
              "      border-color: transparent;\n",
              "      border-right-color: var(--fill-color);\n",
              "    }\n",
              "    80% {\n",
              "      border-color: transparent;\n",
              "      border-right-color: var(--fill-color);\n",
              "      border-bottom-color: var(--fill-color);\n",
              "    }\n",
              "    90% {\n",
              "      border-color: transparent;\n",
              "      border-bottom-color: var(--fill-color);\n",
              "    }\n",
              "  }\n",
              "</style>\n",
              "\n",
              "  <script>\n",
              "    async function quickchart(key) {\n",
              "      const quickchartButtonEl =\n",
              "        document.querySelector('#' + key + ' button');\n",
              "      quickchartButtonEl.disabled = true;  // To prevent multiple clicks.\n",
              "      quickchartButtonEl.classList.add('colab-df-spinner');\n",
              "      try {\n",
              "        const charts = await google.colab.kernel.invokeFunction(\n",
              "            'suggestCharts', [key], {});\n",
              "      } catch (error) {\n",
              "        console.error('Error during call to suggestCharts:', error);\n",
              "      }\n",
              "      quickchartButtonEl.classList.remove('colab-df-spinner');\n",
              "      quickchartButtonEl.classList.add('colab-df-quickchart-complete');\n",
              "    }\n",
              "    (() => {\n",
              "      let quickchartButtonEl =\n",
              "        document.querySelector('#df-6fb7f2c6-3490-4331-a31d-e3774f08e3e0 button');\n",
              "      quickchartButtonEl.style.display =\n",
              "        google.colab.kernel.accessAllowed ? 'block' : 'none';\n",
              "    })();\n",
              "  </script>\n",
              "</div>\n",
              "\n",
              "  <div id=\"id_71ee4ac1-49a0-4e79-aed1-8f7d648eaac7\">\n",
              "    <style>\n",
              "      .colab-df-generate {\n",
              "        background-color: #E8F0FE;\n",
              "        border: none;\n",
              "        border-radius: 50%;\n",
              "        cursor: pointer;\n",
              "        display: none;\n",
              "        fill: #1967D2;\n",
              "        height: 32px;\n",
              "        padding: 0 0 0 0;\n",
              "        width: 32px;\n",
              "      }\n",
              "\n",
              "      .colab-df-generate:hover {\n",
              "        background-color: #E2EBFA;\n",
              "        box-shadow: 0px 1px 2px rgba(60, 64, 67, 0.3), 0px 1px 3px 1px rgba(60, 64, 67, 0.15);\n",
              "        fill: #174EA6;\n",
              "      }\n",
              "\n",
              "      [theme=dark] .colab-df-generate {\n",
              "        background-color: #3B4455;\n",
              "        fill: #D2E3FC;\n",
              "      }\n",
              "\n",
              "      [theme=dark] .colab-df-generate:hover {\n",
              "        background-color: #434B5C;\n",
              "        box-shadow: 0px 1px 3px 1px rgba(0, 0, 0, 0.15);\n",
              "        filter: drop-shadow(0px 1px 2px rgba(0, 0, 0, 0.3));\n",
              "        fill: #FFFFFF;\n",
              "      }\n",
              "    </style>\n",
              "    <button class=\"colab-df-generate\" onclick=\"generateWithVariable('df')\"\n",
              "            title=\"Generate code using this dataframe.\"\n",
              "            style=\"display:none;\">\n",
              "\n",
              "  <svg xmlns=\"http://www.w3.org/2000/svg\" height=\"24px\"viewBox=\"0 0 24 24\"\n",
              "       width=\"24px\">\n",
              "    <path d=\"M7,19H8.4L18.45,9,17,7.55,7,17.6ZM5,21V16.75L18.45,3.32a2,2,0,0,1,2.83,0l1.4,1.43a1.91,1.91,0,0,1,.58,1.4,1.91,1.91,0,0,1-.58,1.4L9.25,21ZM18.45,9,17,7.55Zm-12,3A5.31,5.31,0,0,0,4.9,8.1,5.31,5.31,0,0,0,1,6.5,5.31,5.31,0,0,0,4.9,4.9,5.31,5.31,0,0,0,6.5,1,5.31,5.31,0,0,0,8.1,4.9,5.31,5.31,0,0,0,12,6.5,5.46,5.46,0,0,0,6.5,12Z\"/>\n",
              "  </svg>\n",
              "    </button>\n",
              "    <script>\n",
              "      (() => {\n",
              "      const buttonEl =\n",
              "        document.querySelector('#id_71ee4ac1-49a0-4e79-aed1-8f7d648eaac7 button.colab-df-generate');\n",
              "      buttonEl.style.display =\n",
              "        google.colab.kernel.accessAllowed ? 'block' : 'none';\n",
              "\n",
              "      buttonEl.onclick = () => {\n",
              "        google.colab.notebook.generateWithVariable('df');\n",
              "      }\n",
              "      })();\n",
              "    </script>\n",
              "  </div>\n",
              "\n",
              "    </div>\n",
              "  </div>\n"
            ],
            "application/vnd.google.colaboratory.intrinsic+json": {
              "type": "dataframe",
              "variable_name": "df"
            }
          },
          "metadata": {},
          "execution_count": 7
        }
      ]
    },
    {
      "cell_type": "markdown",
      "source": [
        "Split dates into month and year."
      ],
      "metadata": {
        "id": "Mxk2FxIZR16z"
      }
    },
    {
      "cell_type": "code",
      "source": [
        "df['ACT_PERIOD_YEAR'] = df['ACT_PERIOD'].apply(lambda x: str(x)[-4:]).astype(int)\n",
        "df['ACT_PERIOD_MONTH'] = df['ACT_PERIOD'].apply(lambda x: str(x)[:-4]).astype(int)\n",
        "df = df.drop(['ACT_PERIOD'], axis=1)"
      ],
      "metadata": {
        "id": "S6n094aDQlpC"
      },
      "execution_count": 8,
      "outputs": []
    },
    {
      "cell_type": "code",
      "source": [
        "df['ORIG_DATE_YEAR'] = df['ORIG_DATE'].apply(lambda x: str(x)[-4:]).astype(int)\n",
        "df['ORIG_DATE_MONTH'] = df['ORIG_DATE'].apply(lambda x: str(x)[:-4]).astype(int)\n",
        "df = df.drop(['ORIG_DATE'], axis=1)"
      ],
      "metadata": {
        "id": "roRgJb4RRr35"
      },
      "execution_count": 9,
      "outputs": []
    },
    {
      "cell_type": "code",
      "source": [
        "df['FIRST_PAY_YEAR'] = df['FIRST_PAY'].apply(lambda x: str(x)[-4:]).astype(int)\n",
        "df['FIRST_PAY_MONTH'] = df['FIRST_PAY'].apply(lambda x: str(x)[:-4]).astype(int)\n",
        "df = df.drop(['FIRST_PAY'], axis=1)"
      ],
      "metadata": {
        "id": "-0FgesyAVv8S"
      },
      "execution_count": 10,
      "outputs": []
    },
    {
      "cell_type": "markdown",
      "source": [
        "Replace whitespace in SELLER values and make lowercase"
      ],
      "metadata": {
        "id": "wEF8PD07R5gI"
      }
    },
    {
      "cell_type": "code",
      "source": [
        "df['SELLER'].replace(' ', '_', regex=True, inplace=True)\n",
        "df['SELLER'].replace('\\.', '', regex=True, inplace=True)\n",
        "df['SELLER'].replace('\\,', '', regex=True, inplace=True)\n",
        "df['SELLER'] = df['SELLER'].str.lower()\n"
      ],
      "metadata": {
        "id": "efCgiue-RQXh"
      },
      "execution_count": 11,
      "outputs": []
    },
    {
      "cell_type": "markdown",
      "source": [
        "Get Latitude and Longitude for each ZIP code so that we can use numeric values.\n",
        "\n",
        "Areas that are close together will have Lat/Long values that are also close together. It's possible that certain regions have higher rates of default than others."
      ],
      "metadata": {
        "id": "MbGnFWHns-A_"
      }
    },
    {
      "cell_type": "code",
      "source": [
        "zip_code_map = pd.read_csv('https://raw.githubusercontent.com/quaneh/fnma-predictor/main/data/zip_lat_long.csv', sep=',', header=0,\n",
        "                           names=['ZIP', 'LAT', 'LONG'], dtype={'ZIP': str})\n",
        "\n",
        "zip_code_map['ZIP'] = zip_code_map['ZIP'].apply(lambda x: x[:3])\n",
        "\n",
        "zip_code_map = zip_code_map.groupby('ZIP')[['LAT', 'LONG']].mean().reset_index()\n",
        "\n",
        "df['ZIP'] = df['ZIP'].astype(int).astype(str).str.zfill(3)\n",
        "\n",
        "df = df.merge(zip_code_map, on='ZIP', how='left')\n",
        "\n",
        "df.drop(['ZIP', 'STATE', 'MSA'], axis=1, inplace=True)"
      ],
      "metadata": {
        "id": "UcFC-wPSrvBF"
      },
      "execution_count": 12,
      "outputs": []
    },
    {
      "cell_type": "markdown",
      "source": [
        "### Replace Null Values\n",
        "\n",
        "Note: Here we replace all null values with 0 as we have decided on XGBoost as our chosen model. We also experimented with imputed values."
      ],
      "metadata": {
        "id": "iOZTgJTobR3i"
      }
    },
    {
      "cell_type": "code",
      "source": [
        "df['DTI'].fillna(0, inplace=True)\n",
        "df['CSCORE_B'].fillna(0, inplace=True)\n",
        "df['CSCORE_C'].fillna(0, inplace=True)\n",
        "df['FIRST_FLAG'].fillna('XX', inplace=True)\n",
        "df['NUM_BO'].fillna(0, inplace=True)\n",
        "df['OCLTV'].fillna(0, inplace=True)\n",
        "df['LAT'].fillna(0, inplace=True)\n",
        "df['LONG'].fillna(0, inplace=True)"
      ],
      "metadata": {
        "id": "uF6zB4o_bRQA"
      },
      "execution_count": 13,
      "outputs": []
    },
    {
      "cell_type": "code",
      "source": [
        "df = df[df['ORIG_RATE'].notnull()]"
      ],
      "metadata": {
        "id": "68vKxLwaiW2a"
      },
      "execution_count": 14,
      "outputs": []
    },
    {
      "cell_type": "code",
      "source": [
        "df.dtypes"
      ],
      "metadata": {
        "colab": {
          "base_uri": "https://localhost:8080/"
        },
        "id": "pU3qvmNEy5hO",
        "outputId": "976ff3e5-7366-42be-8b91-554d5a47995c"
      },
      "execution_count": 15,
      "outputs": [
        {
          "output_type": "execute_result",
          "data": {
            "text/plain": [
              "CHANNEL                           object\n",
              "SELLER                            object\n",
              "ORIG_RATE                        float64\n",
              "ORIG_UPB                         float64\n",
              "ORIG_TERM                          int64\n",
              "OLTV                               int64\n",
              "OCLTV                            float64\n",
              "NUM_BO                           float64\n",
              "DTI                              float64\n",
              "CSCORE_B                         float64\n",
              "CSCORE_C                         float64\n",
              "FIRST_FLAG                        object\n",
              "PURPOSE                           object\n",
              "PROP                              object\n",
              "NO_UNITS                           int64\n",
              "OCC_STAT                          object\n",
              "RELOCATION_MORTGAGE_INDICATOR     object\n",
              "HAS_DEFAULTED                      int64\n",
              "ACT_PERIOD_YEAR                    int64\n",
              "ACT_PERIOD_MONTH                   int64\n",
              "ORIG_DATE_YEAR                     int64\n",
              "ORIG_DATE_MONTH                    int64\n",
              "FIRST_PAY_YEAR                     int64\n",
              "FIRST_PAY_MONTH                    int64\n",
              "LAT                              float64\n",
              "LONG                             float64\n",
              "dtype: object"
            ]
          },
          "metadata": {},
          "execution_count": 15
        }
      ]
    },
    {
      "cell_type": "markdown",
      "source": [
        "We can use the following visualisation for exploring our dataset.\n",
        "\n",
        "Change the *column* to view how default rates vary for different values for that feature."
      ],
      "metadata": {
        "id": "Kf5LyoBLi2e9"
      }
    },
    {
      "cell_type": "code",
      "source": [
        "column = 'NUM_BO'\n",
        "\n",
        "data = df.loc[df[column].isin(df[column].value_counts().index.tolist()[:10])]\n",
        "\n",
        "xtab = pd.pivot_table(data, index=column, columns='HAS_DEFAULTED', aggfunc='size')\n",
        "xtab = xtab.div(xtab.sum(axis=1), axis=0)\n",
        "xtab.plot.barh(stacked=True, figsize=(6,4))\n",
        "plt.legend(loc='center left', bbox_to_anchor=(1.0, 0.5))\n",
        "plt.xlabel('Fraction of Borrowers')\n",
        "plt.ylabel(column)"
      ],
      "metadata": {
        "colab": {
          "base_uri": "https://localhost:8080/",
          "height": 405
        },
        "id": "QyFs4cN7R0mc",
        "outputId": "25ecc420-5a7b-429d-c282-872aa3957ec2"
      },
      "execution_count": 16,
      "outputs": [
        {
          "output_type": "execute_result",
          "data": {
            "text/plain": [
              "Text(0, 0.5, 'NUM_BO')"
            ]
          },
          "metadata": {},
          "execution_count": 16
        },
        {
          "output_type": "display_data",
          "data": {
            "text/plain": [
              "<Figure size 600x400 with 1 Axes>"
            ],
            "image/png": "[encoded data removed]"
          },
          "metadata": {}
        }
      ]
    },
    {
      "cell_type": "markdown",
      "source": [
        "### Processing\n",
        "\n",
        "* Here we split our dataset into X and y (predictor variables and target variable)\n",
        "\n",
        "* We check that we no longer have any null values in our dataset.\n",
        "\n",
        "* We then convert the non-numerical data to the category type"
      ],
      "metadata": {
        "id": "SxyetQ04mXI0"
      }
    },
    {
      "cell_type": "code",
      "source": [
        "y = df['HAS_DEFAULTED'].copy()\n",
        "X = df.drop(['HAS_DEFAULTED'], axis=1).copy()"
      ],
      "metadata": {
        "id": "swIvHVcpEjmS"
      },
      "execution_count": 17,
      "outputs": []
    },
    {
      "cell_type": "code",
      "source": [
        "X.columns = map(str.lower, X.columns)\n",
        "X.iloc[0].to_json()"
      ],
      "metadata": {
        "colab": {
          "base_uri": "https://localhost:8080/",
          "height": 70
        },
        "id": "sK4j4Th4rU72",
        "outputId": "83c109a2-dbb1-46a9-ea2a-50ffbf2c2e1a"
      },
      "execution_count": 18,
      "outputs": [
        {
          "output_type": "execute_result",
          "data": {
            "text/plain": [
              "'{\"channel\":\"C\",\"seller\":\"bank_of_america_na\",\"orig_rate\":6.625,\"orig_upb\":343000.0,\"orig_term\":360,\"oltv\":86,\"ocltv\":86.0,\"num_bo\":2.0,\"dti\":27.0,\"cscore_b\":751.0,\"cscore_c\":756.0,\"first_flag\":\"N\",\"purpose\":\"C\",\"prop\":\"PU\",\"no_units\":1,\"occ_stat\":\"P\",\"relocation_mortgage_indicator\":\"N\",\"act_period_year\":2009,\"act_period_month\":1,\"orig_date_year\":2007,\"orig_date_month\":10,\"first_pay_year\":2007,\"first_pay_month\":12,\"lat\":38.8454972258,\"long\":-104.7358872258}'"
            ],
            "application/vnd.google.colaboratory.intrinsic+json": {
              "type": "string"
            }
          },
          "metadata": {},
          "execution_count": 18
        }
      ]
    },
    {
      "cell_type": "code",
      "source": [
        "X.apply(lambda x: x.isnull().sum(), axis=0)"
      ],
      "metadata": {
        "colab": {
          "base_uri": "https://localhost:8080/"
        },
        "id": "1N7pAK9QWAEP",
        "outputId": "e164b0a6-5eb2-44e0-d11b-adc00b7493a3"
      },
      "execution_count": 19,
      "outputs": [
        {
          "output_type": "execute_result",
          "data": {
            "text/plain": [
              "channel                          0\n",
              "seller                           0\n",
              "orig_rate                        0\n",
              "orig_upb                         0\n",
              "orig_term                        0\n",
              "oltv                             0\n",
              "ocltv                            0\n",
              "num_bo                           0\n",
              "dti                              0\n",
              "cscore_b                         0\n",
              "cscore_c                         0\n",
              "first_flag                       0\n",
              "purpose                          0\n",
              "prop                             0\n",
              "no_units                         0\n",
              "occ_stat                         0\n",
              "relocation_mortgage_indicator    0\n",
              "act_period_year                  0\n",
              "act_period_month                 0\n",
              "orig_date_year                   0\n",
              "orig_date_month                  0\n",
              "first_pay_year                   0\n",
              "first_pay_month                  0\n",
              "lat                              0\n",
              "long                             0\n",
              "dtype: int64"
            ]
          },
          "metadata": {},
          "execution_count": 19
        }
      ]
    },
    {
      "cell_type": "code",
      "source": [
        "# Extract text features\n",
        "cats = X.select_dtypes(exclude=np.number).columns.tolist()\n",
        "\n",
        "# Convert to Pandas category\n",
        "for col in cats:\n",
        "   X[col] = X[col].astype('category')"
      ],
      "metadata": {
        "id": "rMwKbtO5lCyg"
      },
      "execution_count": 20,
      "outputs": []
    },
    {
      "cell_type": "markdown",
      "source": [
        "### Split into Train and Test"
      ],
      "metadata": {
        "id": "3xXS5XFH3c8w"
      }
    },
    {
      "cell_type": "code",
      "source": [
        "X_train, X_test, y_train, y_test = train_test_split(X, y, random_state=1, stratify=y)\n",
        "\n",
        "dtrain = xgb.DMatrix(X_train, y_train, enable_categorical=True)\n",
        "dtest = xgb.DMatrix(X_test, y_test, enable_categorical=True)"
      ],
      "metadata": {
        "id": "PdcAfABphtxr"
      },
      "execution_count": 21,
      "outputs": []
    },
    {
      "cell_type": "code",
      "source": [
        "sum(y_train)/len(y_train)"
      ],
      "metadata": {
        "colab": {
          "base_uri": "https://localhost:8080/"
        },
        "id": "9gGBl11Ip9WR",
        "outputId": "f9a134b5-dbda-42c8-b9bb-0cc46cbf7a00"
      },
      "execution_count": 22,
      "outputs": [
        {
          "output_type": "execute_result",
          "data": {
            "text/plain": [
              "0.09840312217734376"
            ]
          },
          "metadata": {},
          "execution_count": 22
        }
      ]
    },
    {
      "cell_type": "code",
      "source": [
        "sum(y_test)/len(y_test)"
      ],
      "metadata": {
        "colab": {
          "base_uri": "https://localhost:8080/"
        },
        "id": "Nxz9CJH_qLWw",
        "outputId": "97e95520-6be8-4d66-ed4b-26fd6a57be98"
      },
      "execution_count": 23,
      "outputs": [
        {
          "output_type": "execute_result",
          "data": {
            "text/plain": [
              "0.09840993915844368"
            ]
          },
          "metadata": {},
          "execution_count": 23
        }
      ]
    },
    {
      "cell_type": "markdown",
      "source": [
        "## Hyperparameter Tuning OPTUNA\n",
        "\n",
        "Here we'll set up our hyperparameter tuning experiment with Optuna\n",
        "With optuna we define our objective, then initialise the study for a set number of trials, and our final output provides us the detail of the best trial.\n",
        "\n",
        "When defining our objective we set the ranges for each of the variable input parameters for our model.\n",
        "\n",
        "We also set some constant input paramenters for the model.\n",
        "\n",
        "The most important part of defining the objective is setting the objective variable. In this case we decide to maximise the AUC-PR value."
      ],
      "metadata": {
        "id": "LOJ_vX_Aihkj"
      }
    },
    {
      "cell_type": "code",
      "source": [
        "def objective(trial):\n",
        "    params = {\"objective\":\"binary:logistic\",\"tree_method\": \"hist\", \"device\": \"gpu\", \"eval_metric\": \"aucpr\",\n",
        "              'max_depth': trial.suggest_int('max_depth', 3, 18),\n",
        "              'gamma': trial.suggest_float('gamma', 1, 9),\n",
        "              'reg_alpha': trial.suggest_int('reg_alpha', 40, 180),\n",
        "              'reg_lambda': trial.suggest_float('reg_lambda', 0, 1),\n",
        "              'min_child_weight': trial.suggest_int('min_child_weight', 0, 10),\n",
        "              'colsample_bytree': trial.suggest_float('colsample_bytree', 0.5, 1),\n",
        "              'scale_pos_weight': trial.suggest_int('scale_pos_weight', 1, 13)}\n",
        "\n",
        "    evals = [(dtrain, \"train\"), (dtest, \"validation\")]\n",
        "\n",
        "    model = xgb.train(\n",
        "        params=params,\n",
        "        dtrain=dtrain,\n",
        "        num_boost_round=5000,\n",
        "        evals=evals,\n",
        "        verbose_eval=False,\n",
        "        early_stopping_rounds=100,\n",
        "        )\n",
        "\n",
        "    print (\"SCORE:\", model.best_score)\n",
        "    return model.best_score"
      ],
      "metadata": {
        "id": "m_eL9C3VihV9"
      },
      "execution_count": 25,
      "outputs": []
    },
    {
      "cell_type": "code",
      "source": [
        "%timeit\n",
        "\n",
        "study = optuna.create_study(direction='maximize')\n",
        "optuna.logging.set_verbosity(optuna.logging.INFO)\n",
        "study.optimize(objective, n_trials=100)\n",
        "\n",
        "trial = study.best_trial\n",
        "\n",
        "print('Score: {}'.format(trial.value))\n",
        "print(\"Best hyperparameters: {}\".format(trial.params))"
      ],
      "metadata": {
        "colab": {
          "base_uri": "https://localhost:8080/"
        },
        "id": "eFbWXeL4mh5H",
        "outputId": "dfb6e798-d5cd-4969-df2e-1e5c4850efcb"
      },
      "execution_count": 26,
      "outputs": [
        {
          "output_type": "stream",
          "name": "stderr",
          "text": [
            "[I 2024-03-15 03:21:56,089] A new study created in memory with name: no-name-a52073fe-bf33-4dfe-8b6b-4106b262c9eb\n",
            "[I 2024-03-15 03:21:57,850] Trial 0 finished with value: 0.508060382921804 and parameters: {'max_depth': 5, 'gamma': 5.112641887186764, 'reg_alpha': 110, 'reg_lambda': 0.6540393918644345, 'min_child_weight': 9, 'colsample_bytree': 0.5780111509777641, 'scale_pos_weight': 8}. Best is trial 0 with value: 0.508060382921804.\n"
          ]
        },
        {
          "output_type": "stream",
          "name": "stdout",
          "text": [
            "SCORE: 0.508060382921804\n"
          ]
        },
        {
          "output_type": "stream",
          "name": "stderr",
          "text": [
            "[I 2024-03-15 03:21:58,880] Trial 1 finished with value: 0.5126943694118078 and parameters: {'max_depth': 6, 'gamma': 7.734264873955768, 'reg_alpha': 144, 'reg_lambda': 0.6621776629802607, 'min_child_weight': 8, 'colsample_bytree': 0.9225589453865888, 'scale_pos_weight': 12}. Best is trial 1 with value: 0.5126943694118078.\n"
          ]
        },
        {
          "output_type": "stream",
          "name": "stdout",
          "text": [
            "SCORE: 0.5126943694118078\n"
          ]
        },
        {
          "output_type": "stream",
          "name": "stderr",
          "text": [
            "[I 2024-03-15 03:22:00,413] Trial 2 finished with value: 0.5155393985173489 and parameters: {'max_depth': 4, 'gamma': 4.348338997030887, 'reg_alpha': 45, 'reg_lambda': 0.2316575396512469, 'min_child_weight': 6, 'colsample_bytree': 0.8114495480135244, 'scale_pos_weight': 12}. Best is trial 2 with value: 0.5155393985173489.\n"
          ]
        },
        {
          "output_type": "stream",
          "name": "stdout",
          "text": [
            "SCORE: 0.5155393985173489\n"
          ]
        },
        {
          "output_type": "stream",
          "name": "stderr",
          "text": [
            "[I 2024-03-15 03:22:01,597] Trial 3 finished with value: 0.5265605090554513 and parameters: {'max_depth': 11, 'gamma': 6.069826034076737, 'reg_alpha': 94, 'reg_lambda': 0.46769199018448104, 'min_child_weight': 10, 'colsample_bytree': 0.6325737814827983, 'scale_pos_weight': 9}. Best is trial 3 with value: 0.5265605090554513.\n"
          ]
        },
        {
          "output_type": "stream",
          "name": "stdout",
          "text": [
            "SCORE: 0.5265605090554513\n"
          ]
        },
        {
          "output_type": "stream",
          "name": "stderr",
          "text": [
            "[I 2024-03-15 03:22:03,645] Trial 4 finished with value: 0.527209489210099 and parameters: {'max_depth': 17, 'gamma': 2.6848951094254403, 'reg_alpha': 104, 'reg_lambda': 0.25715337164513896, 'min_child_weight': 8, 'colsample_bytree': 0.9333550223058558, 'scale_pos_weight': 12}. Best is trial 4 with value: 0.527209489210099.\n"
          ]
        },
        {
          "output_type": "stream",
          "name": "stdout",
          "text": [
            "SCORE: 0.527209489210099\n"
          ]
        },
        {
          "output_type": "stream",
          "name": "stderr",
          "text": [
            "[I 2024-03-15 03:22:04,804] Trial 5 finished with value: 0.5032148623603804 and parameters: {'max_depth': 15, 'gamma': 2.6763168933478285, 'reg_alpha': 73, 'reg_lambda': 0.16849937284863103, 'min_child_weight': 6, 'colsample_bytree': 0.5545637362569458, 'scale_pos_weight': 1}. Best is trial 4 with value: 0.527209489210099.\n"
          ]
        },
        {
          "output_type": "stream",
          "name": "stdout",
          "text": [
            "SCORE: 0.5032148623603804\n"
          ]
        },
        {
          "output_type": "stream",
          "name": "stderr",
          "text": [
            "[I 2024-03-15 03:22:06,927] Trial 6 finished with value: 0.5294495663006362 and parameters: {'max_depth': 15, 'gamma': 1.9251943747161269, 'reg_alpha': 110, 'reg_lambda': 0.7915619882360597, 'min_child_weight': 1, 'colsample_bytree': 0.8884487053736033, 'scale_pos_weight': 13}. Best is trial 6 with value: 0.5294495663006362.\n"
          ]
        },
        {
          "output_type": "stream",
          "name": "stdout",
          "text": [
            "SCORE: 0.5294495663006362\n"
          ]
        },
        {
          "output_type": "stream",
          "name": "stderr",
          "text": [
            "[I 2024-03-15 03:22:07,945] Trial 7 finished with value: 0.5204312393100534 and parameters: {'max_depth': 9, 'gamma': 8.696979306266154, 'reg_alpha': 50, 'reg_lambda': 0.40351949952395005, 'min_child_weight': 6, 'colsample_bytree': 0.746423337524347, 'scale_pos_weight': 5}. Best is trial 6 with value: 0.5294495663006362.\n"
          ]
        },
        {
          "output_type": "stream",
          "name": "stdout",
          "text": [
            "SCORE: 0.5204312393100534\n"
          ]
        },
        {
          "output_type": "stream",
          "name": "stderr",
          "text": [
            "[I 2024-03-15 03:22:08,912] Trial 8 finished with value: 0.49838436008630627 and parameters: {'max_depth': 13, 'gamma': 7.371097810628985, 'reg_alpha': 59, 'reg_lambda': 0.8848811112697501, 'min_child_weight': 7, 'colsample_bytree': 0.9175187340352393, 'scale_pos_weight': 1}. Best is trial 6 with value: 0.5294495663006362.\n"
          ]
        },
        {
          "output_type": "stream",
          "name": "stdout",
          "text": [
            "SCORE: 0.49838436008630627\n"
          ]
        },
        {
          "output_type": "stream",
          "name": "stderr",
          "text": [
            "[I 2024-03-15 03:22:10,453] Trial 9 finished with value: 0.5253104736403177 and parameters: {'max_depth': 11, 'gamma': 4.629570239801517, 'reg_alpha': 85, 'reg_lambda': 0.732657872007637, 'min_child_weight': 6, 'colsample_bytree': 0.6109550488855664, 'scale_pos_weight': 12}. Best is trial 6 with value: 0.5294495663006362.\n"
          ]
        },
        {
          "output_type": "stream",
          "name": "stdout",
          "text": [
            "SCORE: 0.5253104736403177\n"
          ]
        },
        {
          "output_type": "stream",
          "name": "stderr",
          "text": [
            "[I 2024-03-15 03:22:12,052] Trial 10 finished with value: 0.5207585908622392 and parameters: {'max_depth': 18, 'gamma': 1.505551206265393, 'reg_alpha': 142, 'reg_lambda': 0.9996458013540038, 'min_child_weight': 0, 'colsample_bytree': 0.8072928470721024, 'scale_pos_weight': 5}. Best is trial 6 with value: 0.5294495663006362.\n"
          ]
        },
        {
          "output_type": "stream",
          "name": "stdout",
          "text": [
            "SCORE: 0.5207585908622392\n"
          ]
        },
        {
          "output_type": "stream",
          "name": "stderr",
          "text": [
            "[I 2024-03-15 03:22:13,980] Trial 11 finished with value: 0.5256910628078947 and parameters: {'max_depth': 18, 'gamma': 2.6558785489307537, 'reg_alpha': 172, 'reg_lambda': 0.053957820192174766, 'min_child_weight': 2, 'colsample_bytree': 0.9797952716238083, 'scale_pos_weight': 13}. Best is trial 6 with value: 0.5294495663006362.\n"
          ]
        },
        {
          "output_type": "stream",
          "name": "stdout",
          "text": [
            "SCORE: 0.5256910628078947\n"
          ]
        },
        {
          "output_type": "stream",
          "name": "stderr",
          "text": [
            "[I 2024-03-15 03:22:16,308] Trial 12 finished with value: 0.5262810275022536 and parameters: {'max_depth': 15, 'gamma': 1.4509417426572542, 'reg_alpha': 127, 'reg_lambda': 0.29997142935975335, 'min_child_weight': 3, 'colsample_bytree': 0.8714881641324392, 'scale_pos_weight': 10}. Best is trial 6 with value: 0.5294495663006362.\n"
          ]
        },
        {
          "output_type": "stream",
          "name": "stdout",
          "text": [
            "SCORE: 0.5262810275022536\n"
          ]
        },
        {
          "output_type": "stream",
          "name": "stderr",
          "text": [
            "[I 2024-03-15 03:22:17,996] Trial 13 finished with value: 0.5262465869419596 and parameters: {'max_depth': 16, 'gamma': 3.125637930029745, 'reg_alpha': 113, 'reg_lambda': 0.5182650412207724, 'min_child_weight': 3, 'colsample_bytree': 0.995701997056655, 'scale_pos_weight': 10}. Best is trial 6 with value: 0.5294495663006362.\n"
          ]
        },
        {
          "output_type": "stream",
          "name": "stdout",
          "text": [
            "SCORE: 0.5262465869419596\n"
          ]
        },
        {
          "output_type": "stream",
          "name": "stderr",
          "text": [
            "[I 2024-03-15 03:22:19,377] Trial 14 finished with value: 0.5252609123310898 and parameters: {'max_depth': 13, 'gamma': 3.2651444472516875, 'reg_alpha': 105, 'reg_lambda': 0.8112371532611279, 'min_child_weight': 1, 'colsample_bytree': 0.7467503225659724, 'scale_pos_weight': 6}. Best is trial 6 with value: 0.5294495663006362.\n"
          ]
        },
        {
          "output_type": "stream",
          "name": "stdout",
          "text": [
            "SCORE: 0.5252609123310898\n"
          ]
        },
        {
          "output_type": "stream",
          "name": "stderr",
          "text": [
            "[I 2024-03-15 03:22:21,774] Trial 15 finished with value: 0.527669257242284 and parameters: {'max_depth': 16, 'gamma': 1.2010151013190704, 'reg_alpha': 128, 'reg_lambda': 0.07493036030524125, 'min_child_weight': 4, 'colsample_bytree': 0.8442814783118885, 'scale_pos_weight': 13}. Best is trial 6 with value: 0.5294495663006362.\n"
          ]
        },
        {
          "output_type": "stream",
          "name": "stdout",
          "text": [
            "SCORE: 0.527669257242284\n"
          ]
        },
        {
          "output_type": "stream",
          "name": "stderr",
          "text": [
            "[I 2024-03-15 03:22:23,749] Trial 16 finished with value: 0.5300524948139637 and parameters: {'max_depth': 13, 'gamma': 1.1336561120222655, 'reg_alpha': 167, 'reg_lambda': 0.09709732702260876, 'min_child_weight': 4, 'colsample_bytree': 0.6949040601080642, 'scale_pos_weight': 10}. Best is trial 16 with value: 0.5300524948139637.\n"
          ]
        },
        {
          "output_type": "stream",
          "name": "stdout",
          "text": [
            "SCORE: 0.5300524948139637\n"
          ]
        },
        {
          "output_type": "stream",
          "name": "stderr",
          "text": [
            "[I 2024-03-15 03:22:25,140] Trial 17 finished with value: 0.5257602782321156 and parameters: {'max_depth': 8, 'gamma': 1.0101538039296158, 'reg_alpha': 180, 'reg_lambda': 0.5385119766242408, 'min_child_weight': 0, 'colsample_bytree': 0.6939905839571546, 'scale_pos_weight': 10}. Best is trial 16 with value: 0.5300524948139637.\n"
          ]
        },
        {
          "output_type": "stream",
          "name": "stdout",
          "text": [
            "SCORE: 0.5257602782321156\n"
          ]
        },
        {
          "output_type": "stream",
          "name": "stderr",
          "text": [
            "[I 2024-03-15 03:22:26,697] Trial 18 finished with value: 0.518803068974849 and parameters: {'max_depth': 13, 'gamma': 1.9932177457174916, 'reg_alpha': 161, 'reg_lambda': 0.9280927395217882, 'min_child_weight': 4, 'colsample_bytree': 0.5090913126542858, 'scale_pos_weight': 8}. Best is trial 16 with value: 0.5300524948139637.\n"
          ]
        },
        {
          "output_type": "stream",
          "name": "stdout",
          "text": [
            "SCORE: 0.518803068974849\n"
          ]
        },
        {
          "output_type": "stream",
          "name": "stderr",
          "text": [
            "[I 2024-03-15 03:22:28,457] Trial 19 finished with value: 0.5247229396084943 and parameters: {'max_depth': 14, 'gamma': 3.9622211211955443, 'reg_alpha': 155, 'reg_lambda': 0.0009515758158526316, 'min_child_weight': 2, 'colsample_bytree': 0.6921494468945574, 'scale_pos_weight': 11}. Best is trial 16 with value: 0.5300524948139637.\n"
          ]
        },
        {
          "output_type": "stream",
          "name": "stdout",
          "text": [
            "SCORE: 0.5247229396084943\n"
          ]
        },
        {
          "output_type": "stream",
          "name": "stderr",
          "text": [
            "[I 2024-03-15 03:22:29,565] Trial 20 finished with value: 0.5183493060638218 and parameters: {'max_depth': 9, 'gamma': 5.940089022443797, 'reg_alpha': 125, 'reg_lambda': 0.40005400463227997, 'min_child_weight': 4, 'colsample_bytree': 0.687964502823107, 'scale_pos_weight': 8}. Best is trial 16 with value: 0.5300524948139637.\n"
          ]
        },
        {
          "output_type": "stream",
          "name": "stdout",
          "text": [
            "SCORE: 0.5183493060638218\n"
          ]
        },
        {
          "output_type": "stream",
          "name": "stderr",
          "text": [
            "[I 2024-03-15 03:22:31,622] Trial 21 finished with value: 0.5269014078730813 and parameters: {'max_depth': 16, 'gamma': 1.9378669331785603, 'reg_alpha': 127, 'reg_lambda': 0.11846386817002941, 'min_child_weight': 4, 'colsample_bytree': 0.831717940761564, 'scale_pos_weight': 13}. Best is trial 16 with value: 0.5300524948139637.\n"
          ]
        },
        {
          "output_type": "stream",
          "name": "stdout",
          "text": [
            "SCORE: 0.5269014078730813\n"
          ]
        },
        {
          "output_type": "stream",
          "name": "stderr",
          "text": [
            "[I 2024-03-15 03:22:33,526] Trial 22 finished with value: 0.5307387495380057 and parameters: {'max_depth': 12, 'gamma': 1.2808200982003757, 'reg_alpha': 143, 'reg_lambda': 0.1765675168106381, 'min_child_weight': 2, 'colsample_bytree': 0.8579083223399264, 'scale_pos_weight': 13}. Best is trial 22 with value: 0.5307387495380057.\n"
          ]
        },
        {
          "output_type": "stream",
          "name": "stdout",
          "text": [
            "SCORE: 0.5307387495380057\n"
          ]
        },
        {
          "output_type": "stream",
          "name": "stderr",
          "text": [
            "[I 2024-03-15 03:22:35,066] Trial 23 finished with value: 0.5270464591504725 and parameters: {'max_depth': 12, 'gamma': 1.9496853289131328, 'reg_alpha': 149, 'reg_lambda': 0.16774941662969506, 'min_child_weight': 1, 'colsample_bytree': 0.7910367119192275, 'scale_pos_weight': 11}. Best is trial 22 with value: 0.5307387495380057.\n"
          ]
        },
        {
          "output_type": "stream",
          "name": "stdout",
          "text": [
            "SCORE: 0.5270464591504725\n"
          ]
        },
        {
          "output_type": "stream",
          "name": "stderr",
          "text": [
            "[I 2024-03-15 03:22:36,350] Trial 24 finished with value: 0.5231756053244739 and parameters: {'max_depth': 10, 'gamma': 3.548992848232569, 'reg_alpha': 165, 'reg_lambda': 0.3004409115003169, 'min_child_weight': 2, 'colsample_bytree': 0.8816492071801171, 'scale_pos_weight': 11}. Best is trial 22 with value: 0.5307387495380057.\n"
          ]
        },
        {
          "output_type": "stream",
          "name": "stdout",
          "text": [
            "SCORE: 0.5231756053244739\n"
          ]
        },
        {
          "output_type": "stream",
          "name": "stderr",
          "text": [
            "[I 2024-03-15 03:22:37,586] Trial 25 finished with value: 0.5105675640136239 and parameters: {'max_depth': 14, 'gamma': 2.2415542001866893, 'reg_alpha': 135, 'reg_lambda': 0.6062177949805054, 'min_child_weight': 1, 'colsample_bytree': 0.7692843120067063, 'scale_pos_weight': 3}. Best is trial 22 with value: 0.5307387495380057.\n"
          ]
        },
        {
          "output_type": "stream",
          "name": "stdout",
          "text": [
            "SCORE: 0.5105675640136239\n"
          ]
        },
        {
          "output_type": "stream",
          "name": "stderr",
          "text": [
            "[I 2024-03-15 03:22:39,508] Trial 26 finished with value: 0.5270411274189778 and parameters: {'max_depth': 12, 'gamma': 1.0196510353625268, 'reg_alpha': 169, 'reg_lambda': 0.7803694319572437, 'min_child_weight': 3, 'colsample_bytree': 0.8843168083024326, 'scale_pos_weight': 9}. Best is trial 22 with value: 0.5307387495380057.\n"
          ]
        },
        {
          "output_type": "stream",
          "name": "stdout",
          "text": [
            "SCORE: 0.5270411274189778\n"
          ]
        },
        {
          "output_type": "stream",
          "name": "stderr",
          "text": [
            "[I 2024-03-15 03:22:40,970] Trial 27 finished with value: 0.5253912483568297 and parameters: {'max_depth': 7, 'gamma': 1.6952593693626081, 'reg_alpha': 151, 'reg_lambda': 0.38151025403768307, 'min_child_weight': 5, 'colsample_bytree': 0.9553999077339836, 'scale_pos_weight': 13}. Best is trial 22 with value: 0.5307387495380057.\n"
          ]
        },
        {
          "output_type": "stream",
          "name": "stdout",
          "text": [
            "SCORE: 0.5253912483568297\n"
          ]
        },
        {
          "output_type": "stream",
          "name": "stderr",
          "text": [
            "[I 2024-03-15 03:22:42,484] Trial 28 finished with value: 0.5213137213603171 and parameters: {'max_depth': 14, 'gamma': 2.3383728220855136, 'reg_alpha': 180, 'reg_lambda': 0.1978684947814352, 'min_child_weight': 0, 'colsample_bytree': 0.7152475323777301, 'scale_pos_weight': 11}. Best is trial 22 with value: 0.5307387495380057.\n"
          ]
        },
        {
          "output_type": "stream",
          "name": "stdout",
          "text": [
            "SCORE: 0.5213137213603171\n"
          ]
        },
        {
          "output_type": "stream",
          "name": "stderr",
          "text": [
            "[I 2024-03-15 03:22:43,678] Trial 29 finished with value: 0.5199628885740455 and parameters: {'max_depth': 12, 'gamma': 5.501847882022194, 'reg_alpha': 117, 'reg_lambda': 0.6392135524275706, 'min_child_weight': 2, 'colsample_bytree': 0.6445849204630479, 'scale_pos_weight': 7}. Best is trial 22 with value: 0.5307387495380057.\n"
          ]
        },
        {
          "output_type": "stream",
          "name": "stdout",
          "text": [
            "SCORE: 0.5199628885740455\n"
          ]
        },
        {
          "output_type": "stream",
          "name": "stderr",
          "text": [
            "[I 2024-03-15 03:22:44,995] Trial 30 finished with value: 0.5249160291450647 and parameters: {'max_depth': 10, 'gamma': 3.8265807172765904, 'reg_alpha': 91, 'reg_lambda': 0.0038737206592908136, 'min_child_weight': 5, 'colsample_bytree': 0.8456352953491484, 'scale_pos_weight': 9}. Best is trial 22 with value: 0.5307387495380057.\n"
          ]
        },
        {
          "output_type": "stream",
          "name": "stdout",
          "text": [
            "SCORE: 0.5249160291450647\n"
          ]
        },
        {
          "output_type": "stream",
          "name": "stderr",
          "text": [
            "[I 2024-03-15 03:22:47,439] Trial 31 finished with value: 0.5239406806617019 and parameters: {'max_depth': 16, 'gamma': 1.005852769745947, 'reg_alpha': 135, 'reg_lambda': 0.09300484517730118, 'min_child_weight': 3, 'colsample_bytree': 0.8470188948038561, 'scale_pos_weight': 13}. Best is trial 22 with value: 0.5307387495380057.\n"
          ]
        },
        {
          "output_type": "stream",
          "name": "stdout",
          "text": [
            "SCORE: 0.5239406806617019\n"
          ]
        },
        {
          "output_type": "stream",
          "name": "stderr",
          "text": [
            "[I 2024-03-15 03:22:49,598] Trial 32 finished with value: 0.5301438509204294 and parameters: {'max_depth': 15, 'gamma': 1.4968227217214867, 'reg_alpha': 139, 'reg_lambda': 0.11650795666638511, 'min_child_weight': 4, 'colsample_bytree': 0.905564869295568, 'scale_pos_weight': 13}. Best is trial 22 with value: 0.5307387495380057.\n"
          ]
        },
        {
          "output_type": "stream",
          "name": "stdout",
          "text": [
            "SCORE: 0.5301438509204294\n"
          ]
        },
        {
          "output_type": "stream",
          "name": "stderr",
          "text": [
            "[I 2024-03-15 03:22:51,744] Trial 33 finished with value: 0.5255877594824101 and parameters: {'max_depth': 15, 'gamma': 1.6131506356181085, 'reg_alpha': 141, 'reg_lambda': 0.1173389030811576, 'min_child_weight': 1, 'colsample_bytree': 0.9060538487632842, 'scale_pos_weight': 12}. Best is trial 22 with value: 0.5307387495380057.\n"
          ]
        },
        {
          "output_type": "stream",
          "name": "stdout",
          "text": [
            "SCORE: 0.5255877594824101\n"
          ]
        },
        {
          "output_type": "stream",
          "name": "stderr",
          "text": [
            "[I 2024-03-15 03:22:53,494] Trial 34 finished with value: 0.49618073193676465 and parameters: {'max_depth': 3, 'gamma': 2.396770793192948, 'reg_alpha': 156, 'reg_lambda': 0.3126652991809974, 'min_child_weight': 3, 'colsample_bytree': 0.9588397657530078, 'scale_pos_weight': 12}. Best is trial 22 with value: 0.5307387495380057.\n"
          ]
        },
        {
          "output_type": "stream",
          "name": "stdout",
          "text": [
            "SCORE: 0.49618073193676465\n"
          ]
        },
        {
          "output_type": "stream",
          "name": "stderr",
          "text": [
            "[I 2024-03-15 03:22:55,200] Trial 35 finished with value: 0.5265409043506448 and parameters: {'max_depth': 17, 'gamma': 3.0698938156564908, 'reg_alpha': 115, 'reg_lambda': 0.17032062291063824, 'min_child_weight': 5, 'colsample_bytree': 0.9364645825758307, 'scale_pos_weight': 11}. Best is trial 22 with value: 0.5307387495380057.\n"
          ]
        },
        {
          "output_type": "stream",
          "name": "stdout",
          "text": [
            "SCORE: 0.5265409043506448\n"
          ]
        },
        {
          "output_type": "stream",
          "name": "stderr",
          "text": [
            "[I 2024-03-15 03:22:56,576] Trial 36 finished with value: 0.5257853223920597 and parameters: {'max_depth': 14, 'gamma': 6.849631073050896, 'reg_alpha': 100, 'reg_lambda': 0.24687179768222015, 'min_child_weight': 2, 'colsample_bytree': 0.7797717247070143, 'scale_pos_weight': 13}. Best is trial 22 with value: 0.5307387495380057.\n"
          ]
        },
        {
          "output_type": "stream",
          "name": "stdout",
          "text": [
            "SCORE: 0.5257853223920597\n"
          ]
        },
        {
          "output_type": "stream",
          "name": "stderr",
          "text": [
            "[I 2024-03-15 03:22:58,477] Trial 37 finished with value: 0.5297595208879158 and parameters: {'max_depth': 12, 'gamma': 1.530334932322723, 'reg_alpha': 136, 'reg_lambda': 0.470970916540505, 'min_child_weight': 10, 'colsample_bytree': 0.8983419848162529, 'scale_pos_weight': 12}. Best is trial 22 with value: 0.5307387495380057.\n"
          ]
        },
        {
          "output_type": "stream",
          "name": "stdout",
          "text": [
            "SCORE: 0.5297595208879158\n"
          ]
        },
        {
          "output_type": "stream",
          "name": "stderr",
          "text": [
            "[I 2024-03-15 03:23:00,046] Trial 38 finished with value: 0.5278058069313932 and parameters: {'max_depth': 11, 'gamma': 1.4368102018744826, 'reg_alpha': 145, 'reg_lambda': 0.44105565204511693, 'min_child_weight': 10, 'colsample_bytree': 0.8206426864890057, 'scale_pos_weight': 12}. Best is trial 22 with value: 0.5307387495380057.\n"
          ]
        },
        {
          "output_type": "stream",
          "name": "stdout",
          "text": [
            "SCORE: 0.5278058069313932\n"
          ]
        },
        {
          "output_type": "stream",
          "name": "stderr",
          "text": [
            "[I 2024-03-15 03:23:01,460] Trial 39 finished with value: 0.5233966219582111 and parameters: {'max_depth': 12, 'gamma': 2.861683520479652, 'reg_alpha': 159, 'reg_lambda': 0.2083553996881562, 'min_child_weight': 9, 'colsample_bytree': 0.9068325544886867, 'scale_pos_weight': 10}. Best is trial 22 with value: 0.5307387495380057.\n"
          ]
        },
        {
          "output_type": "stream",
          "name": "stdout",
          "text": [
            "SCORE: 0.5233966219582111\n"
          ]
        },
        {
          "output_type": "stream",
          "name": "stderr",
          "text": [
            "[I 2024-03-15 03:23:02,601] Trial 40 finished with value: 0.509237716718976 and parameters: {'max_depth': 6, 'gamma': 8.455725575799821, 'reg_alpha': 137, 'reg_lambda': 0.32688587150616194, 'min_child_weight': 7, 'colsample_bytree': 0.6589329314057183, 'scale_pos_weight': 9}. Best is trial 22 with value: 0.5307387495380057.\n"
          ]
        },
        {
          "output_type": "stream",
          "name": "stdout",
          "text": [
            "SCORE: 0.509237716718976\n"
          ]
        },
        {
          "output_type": "stream",
          "name": "stderr",
          "text": [
            "[I 2024-03-15 03:23:04,761] Trial 41 finished with value: 0.5273667866742467 and parameters: {'max_depth': 13, 'gamma': 1.8321088994890573, 'reg_alpha': 121, 'reg_lambda': 0.13680031810320198, 'min_child_weight': 9, 'colsample_bytree': 0.867722170893815, 'scale_pos_weight': 12}. Best is trial 22 with value: 0.5307387495380057.\n"
          ]
        },
        {
          "output_type": "stream",
          "name": "stdout",
          "text": [
            "SCORE: 0.5273667866742467\n"
          ]
        },
        {
          "output_type": "stream",
          "name": "stderr",
          "text": [
            "[I 2024-03-15 03:23:06,780] Trial 42 finished with value: 0.5287169957464578 and parameters: {'max_depth': 15, 'gamma': 2.4007651651812605, 'reg_alpha': 109, 'reg_lambda': 0.7123920194329851, 'min_child_weight': 7, 'colsample_bytree': 0.9376861036656957, 'scale_pos_weight': 13}. Best is trial 22 with value: 0.5307387495380057.\n"
          ]
        },
        {
          "output_type": "stream",
          "name": "stdout",
          "text": [
            "SCORE: 0.5287169957464578\n"
          ]
        },
        {
          "output_type": "stream",
          "name": "stderr",
          "text": [
            "[I 2024-03-15 03:23:08,767] Trial 43 finished with value: 0.530279263161466 and parameters: {'max_depth': 11, 'gamma': 1.4087756611094808, 'reg_alpha': 76, 'reg_lambda': 0.5933184545615033, 'min_child_weight': 6, 'colsample_bytree': 0.9008623530059582, 'scale_pos_weight': 12}. Best is trial 22 with value: 0.5307387495380057.\n"
          ]
        },
        {
          "output_type": "stream",
          "name": "stdout",
          "text": [
            "SCORE: 0.530279263161466\n"
          ]
        },
        {
          "output_type": "stream",
          "name": "stderr",
          "text": [
            "[I 2024-03-15 03:23:10,659] Trial 44 finished with value: 0.5291400063055254 and parameters: {'max_depth': 10, 'gamma': 1.459932463007375, 'reg_alpha': 73, 'reg_lambda': 0.5938074189670012, 'min_child_weight': 8, 'colsample_bytree': 0.5857560208395935, 'scale_pos_weight': 12}. Best is trial 22 with value: 0.5307387495380057.\n"
          ]
        },
        {
          "output_type": "stream",
          "name": "stdout",
          "text": [
            "SCORE: 0.5291400063055254\n"
          ]
        },
        {
          "output_type": "stream",
          "name": "stderr",
          "text": [
            "[I 2024-03-15 03:23:12,054] Trial 45 finished with value: 0.527373829006709 and parameters: {'max_depth': 11, 'gamma': 4.798580389709707, 'reg_alpha': 47, 'reg_lambda': 0.04505959222774208, 'min_child_weight': 6, 'colsample_bytree': 0.9064194970809853, 'scale_pos_weight': 12}. Best is trial 22 with value: 0.5307387495380057.\n"
          ]
        },
        {
          "output_type": "stream",
          "name": "stdout",
          "text": [
            "SCORE: 0.527373829006709\n"
          ]
        },
        {
          "output_type": "stream",
          "name": "stderr",
          "text": [
            "[I 2024-03-15 03:23:13,857] Trial 46 finished with value: 0.5284488387030739 and parameters: {'max_depth': 13, 'gamma': 1.3238836116641963, 'reg_alpha': 149, 'reg_lambda': 0.5640076862251576, 'min_child_weight': 8, 'colsample_bytree': 0.9603329921124024, 'scale_pos_weight': 11}. Best is trial 22 with value: 0.5307387495380057.\n"
          ]
        },
        {
          "output_type": "stream",
          "name": "stdout",
          "text": [
            "SCORE: 0.5284488387030739\n"
          ]
        },
        {
          "output_type": "stream",
          "name": "stderr",
          "text": [
            "[I 2024-03-15 03:23:15,482] Trial 47 finished with value: 0.5294737248484731 and parameters: {'max_depth': 9, 'gamma': 2.13805639120842, 'reg_alpha': 71, 'reg_lambda': 0.473130838984289, 'min_child_weight': 9, 'colsample_bytree': 0.8661180703679356, 'scale_pos_weight': 10}. Best is trial 22 with value: 0.5307387495380057.\n"
          ]
        },
        {
          "output_type": "stream",
          "name": "stdout",
          "text": [
            "SCORE: 0.5294737248484731\n"
          ]
        },
        {
          "output_type": "stream",
          "name": "stderr",
          "text": [
            "[I 2024-03-15 03:23:17,420] Trial 48 finished with value: 0.5321287988621185 and parameters: {'max_depth': 11, 'gamma': 2.6624431004361915, 'reg_alpha': 63, 'reg_lambda': 0.2614680806129741, 'min_child_weight': 4, 'colsample_bytree': 0.7263977908365312, 'scale_pos_weight': 12}. Best is trial 48 with value: 0.5321287988621185.\n"
          ]
        },
        {
          "output_type": "stream",
          "name": "stdout",
          "text": [
            "SCORE: 0.5321287988621185\n"
          ]
        },
        {
          "output_type": "stream",
          "name": "stderr",
          "text": [
            "[I 2024-03-15 03:23:19,286] Trial 49 finished with value: 0.5317345448402551 and parameters: {'max_depth': 11, 'gamma': 2.814332532564918, 'reg_alpha': 59, 'reg_lambda': 0.25044290326819163, 'min_child_weight': 4, 'colsample_bytree': 0.7125810860899405, 'scale_pos_weight': 11}. Best is trial 48 with value: 0.5321287988621185.\n"
          ]
        },
        {
          "output_type": "stream",
          "name": "stdout",
          "text": [
            "SCORE: 0.5317345448402551\n"
          ]
        },
        {
          "output_type": "stream",
          "name": "stderr",
          "text": [
            "[I 2024-03-15 03:23:20,677] Trial 50 finished with value: 0.5288886634581612 and parameters: {'max_depth': 8, 'gamma': 2.692981547026553, 'reg_alpha': 62, 'reg_lambda': 0.24432246882251163, 'min_child_weight': 5, 'colsample_bytree': 0.716137234973899, 'scale_pos_weight': 13}. Best is trial 48 with value: 0.5321287988621185.\n"
          ]
        },
        {
          "output_type": "stream",
          "name": "stdout",
          "text": [
            "SCORE: 0.5288886634581612\n"
          ]
        },
        {
          "output_type": "stream",
          "name": "stderr",
          "text": [
            "[I 2024-03-15 03:23:22,231] Trial 51 finished with value: 0.5272350439050391 and parameters: {'max_depth': 11, 'gamma': 3.334916544155677, 'reg_alpha': 65, 'reg_lambda': 0.27568726604099286, 'min_child_weight': 4, 'colsample_bytree': 0.7271101574060074, 'scale_pos_weight': 11}. Best is trial 48 with value: 0.5321287988621185.\n"
          ]
        },
        {
          "output_type": "stream",
          "name": "stdout",
          "text": [
            "SCORE: 0.5272350439050391\n"
          ]
        },
        {
          "output_type": "stream",
          "name": "stderr",
          "text": [
            "[I 2024-03-15 03:23:23,724] Trial 52 finished with value: 0.5310655863269272 and parameters: {'max_depth': 10, 'gamma': 4.1862586273187485, 'reg_alpha': 58, 'reg_lambda': 0.34598484894721754, 'min_child_weight': 6, 'colsample_bytree': 0.6708131703400343, 'scale_pos_weight': 12}. Best is trial 48 with value: 0.5321287988621185.\n"
          ]
        },
        {
          "output_type": "stream",
          "name": "stdout",
          "text": [
            "SCORE: 0.5310655863269272\n"
          ]
        },
        {
          "output_type": "stream",
          "name": "stderr",
          "text": [
            "[I 2024-03-15 03:23:25,209] Trial 53 finished with value: 0.5301778853862885 and parameters: {'max_depth': 10, 'gamma': 4.188351049039053, 'reg_alpha': 54, 'reg_lambda': 0.20737131085753047, 'min_child_weight': 6, 'colsample_bytree': 0.6591952158612231, 'scale_pos_weight': 12}. Best is trial 48 with value: 0.5321287988621185.\n"
          ]
        },
        {
          "output_type": "stream",
          "name": "stdout",
          "text": [
            "SCORE: 0.5301778853862885\n"
          ]
        },
        {
          "output_type": "stream",
          "name": "stderr",
          "text": [
            "[I 2024-03-15 03:23:26,652] Trial 54 finished with value: 0.528383778852487 and parameters: {'max_depth': 10, 'gamma': 4.488544958613151, 'reg_alpha': 55, 'reg_lambda': 0.39124875601506964, 'min_child_weight': 6, 'colsample_bytree': 0.6105758334501802, 'scale_pos_weight': 12}. Best is trial 48 with value: 0.5321287988621185.\n"
          ]
        },
        {
          "output_type": "stream",
          "name": "stdout",
          "text": [
            "SCORE: 0.528383778852487\n"
          ]
        },
        {
          "output_type": "stream",
          "name": "stderr",
          "text": [
            "[I 2024-03-15 03:23:27,984] Trial 55 finished with value: 0.523291718028792 and parameters: {'max_depth': 8, 'gamma': 5.108897482671793, 'reg_alpha': 81, 'reg_lambda': 0.3362402541723832, 'min_child_weight': 7, 'colsample_bytree': 0.6606142635555665, 'scale_pos_weight': 11}. Best is trial 48 with value: 0.5321287988621185.\n"
          ]
        },
        {
          "output_type": "stream",
          "name": "stdout",
          "text": [
            "SCORE: 0.523291718028792\n"
          ]
        },
        {
          "output_type": "stream",
          "name": "stderr",
          "text": [
            "[I 2024-03-15 03:23:29,113] Trial 56 finished with value: 0.5136876382749336 and parameters: {'max_depth': 9, 'gamma': 4.154732144014857, 'reg_alpha': 57, 'reg_lambda': 0.3442711285262453, 'min_child_weight': 6, 'colsample_bytree': 0.6673839709747, 'scale_pos_weight': 2}. Best is trial 48 with value: 0.5321287988621185.\n"
          ]
        },
        {
          "output_type": "stream",
          "name": "stdout",
          "text": [
            "SCORE: 0.5136876382749336\n"
          ]
        },
        {
          "output_type": "stream",
          "name": "stderr",
          "text": [
            "[I 2024-03-15 03:23:30,812] Trial 57 finished with value: 0.5324712609412091 and parameters: {'max_depth': 11, 'gamma': 3.64449220934652, 'reg_alpha': 43, 'reg_lambda': 0.21586301686976297, 'min_child_weight': 5, 'colsample_bytree': 0.7628374141427563, 'scale_pos_weight': 12}. Best is trial 57 with value: 0.5324712609412091.\n"
          ]
        },
        {
          "output_type": "stream",
          "name": "stdout",
          "text": [
            "SCORE: 0.5324712609412091\n"
          ]
        },
        {
          "output_type": "stream",
          "name": "stderr",
          "text": [
            "[I 2024-03-15 03:23:32,417] Trial 58 finished with value: 0.5313315572529574 and parameters: {'max_depth': 11, 'gamma': 3.731028561919983, 'reg_alpha': 42, 'reg_lambda': 0.26099815084411593, 'min_child_weight': 5, 'colsample_bytree': 0.7390364043299109, 'scale_pos_weight': 11}. Best is trial 57 with value: 0.5324712609412091.\n"
          ]
        },
        {
          "output_type": "stream",
          "name": "stdout",
          "text": [
            "SCORE: 0.5313315572529574\n"
          ]
        },
        {
          "output_type": "stream",
          "name": "stderr",
          "text": [
            "[I 2024-03-15 03:23:33,992] Trial 59 finished with value: 0.5292981960494996 and parameters: {'max_depth': 12, 'gamma': 3.7537149839286177, 'reg_alpha': 41, 'reg_lambda': 0.3649465597045899, 'min_child_weight': 5, 'colsample_bytree': 0.7480468472459116, 'scale_pos_weight': 10}. Best is trial 57 with value: 0.5324712609412091.\n"
          ]
        },
        {
          "output_type": "stream",
          "name": "stdout",
          "text": [
            "SCORE: 0.5292981960494996\n"
          ]
        },
        {
          "output_type": "stream",
          "name": "stderr",
          "text": [
            "[I 2024-03-15 03:23:35,241] Trial 60 finished with value: 0.5328273508970943 and parameters: {'max_depth': 10, 'gamma': 3.450235211977103, 'reg_alpha': 41, 'reg_lambda': 0.28244675735586194, 'min_child_weight': 5, 'colsample_bytree': 0.7673754624800081, 'scale_pos_weight': 4}. Best is trial 60 with value: 0.5328273508970943.\n"
          ]
        },
        {
          "output_type": "stream",
          "name": "stdout",
          "text": [
            "SCORE: 0.5328273508970943\n"
          ]
        },
        {
          "output_type": "stream",
          "name": "stderr",
          "text": [
            "[I 2024-03-15 03:23:36,449] Trial 61 finished with value: 0.5273270725715243 and parameters: {'max_depth': 10, 'gamma': 3.5050110545012907, 'reg_alpha': 41, 'reg_lambda': 0.2782902341076879, 'min_child_weight': 5, 'colsample_bytree': 0.7634775591233742, 'scale_pos_weight': 3}. Best is trial 60 with value: 0.5328273508970943.\n"
          ]
        },
        {
          "output_type": "stream",
          "name": "stdout",
          "text": [
            "SCORE: 0.5273270725715243\n"
          ]
        },
        {
          "output_type": "stream",
          "name": "stderr",
          "text": [
            "[I 2024-03-15 03:23:37,735] Trial 62 finished with value: 0.5315864913334506 and parameters: {'max_depth': 9, 'gamma': 2.863728961307003, 'reg_alpha': 49, 'reg_lambda': 0.16407219799910755, 'min_child_weight': 4, 'colsample_bytree': 0.7979824648438415, 'scale_pos_weight': 5}. Best is trial 60 with value: 0.5328273508970943.\n"
          ]
        },
        {
          "output_type": "stream",
          "name": "stdout",
          "text": [
            "SCORE: 0.5315864913334506\n"
          ]
        },
        {
          "output_type": "stream",
          "name": "stderr",
          "text": [
            "[I 2024-03-15 03:23:39,017] Trial 63 finished with value: 0.5302375008167569 and parameters: {'max_depth': 9, 'gamma': 3.018013496072677, 'reg_alpha': 49, 'reg_lambda': 0.2763671702315912, 'min_child_weight': 4, 'colsample_bytree': 0.8056704896652908, 'scale_pos_weight': 6}. Best is trial 60 with value: 0.5328273508970943.\n"
          ]
        },
        {
          "output_type": "stream",
          "name": "stdout",
          "text": [
            "SCORE: 0.5302375008167569\n"
          ]
        },
        {
          "output_type": "stream",
          "name": "stderr",
          "text": [
            "[I 2024-03-15 03:23:40,334] Trial 64 finished with value: 0.5227018839404766 and parameters: {'max_depth': 7, 'gamma': 3.5580605396818816, 'reg_alpha': 66, 'reg_lambda': 0.2297233917217496, 'min_child_weight': 4, 'colsample_bytree': 0.7297521045109613, 'scale_pos_weight': 5}. Best is trial 60 with value: 0.5328273508970943.\n"
          ]
        },
        {
          "output_type": "stream",
          "name": "stdout",
          "text": [
            "SCORE: 0.5227018839404766\n"
          ]
        },
        {
          "output_type": "stream",
          "name": "stderr",
          "text": [
            "[I 2024-03-15 03:23:41,668] Trial 65 finished with value: 0.5281404865502588 and parameters: {'max_depth': 11, 'gamma': 4.03170599426556, 'reg_alpha': 44, 'reg_lambda': 0.4300793490912884, 'min_child_weight': 5, 'colsample_bytree': 0.7953014393492827, 'scale_pos_weight': 4}. Best is trial 60 with value: 0.5328273508970943.\n"
          ]
        },
        {
          "output_type": "stream",
          "name": "stdout",
          "text": [
            "SCORE: 0.5281404865502588\n"
          ]
        },
        {
          "output_type": "stream",
          "name": "stderr",
          "text": [
            "[I 2024-03-15 03:23:42,810] Trial 66 finished with value: 0.5259514256580131 and parameters: {'max_depth': 9, 'gamma': 4.36926707842086, 'reg_alpha': 52, 'reg_lambda': 0.14374505367013926, 'min_child_weight': 3, 'colsample_bytree': 0.7316931802577032, 'scale_pos_weight': 4}. Best is trial 60 with value: 0.5328273508970943.\n"
          ]
        },
        {
          "output_type": "stream",
          "name": "stdout",
          "text": [
            "SCORE: 0.5259514256580131\n"
          ]
        },
        {
          "output_type": "stream",
          "name": "stderr",
          "text": [
            "[I 2024-03-15 03:23:43,944] Trial 67 finished with value: 0.521852838331536 and parameters: {'max_depth': 11, 'gamma': 4.756807190121084, 'reg_alpha': 60, 'reg_lambda': 0.22684393193862168, 'min_child_weight': 5, 'colsample_bytree': 0.7075599793892506, 'scale_pos_weight': 4}. Best is trial 60 with value: 0.5328273508970943.\n"
          ]
        },
        {
          "output_type": "stream",
          "name": "stdout",
          "text": [
            "SCORE: 0.521852838331536\n"
          ]
        },
        {
          "output_type": "stream",
          "name": "stderr",
          "text": [
            "[I 2024-03-15 03:23:45,110] Trial 68 finished with value: 0.5267943897201418 and parameters: {'max_depth': 8, 'gamma': 3.370263421210083, 'reg_alpha': 47, 'reg_lambda': 0.19170288972154484, 'min_child_weight': 4, 'colsample_bytree': 0.7577945633893306, 'scale_pos_weight': 6}. Best is trial 60 with value: 0.5328273508970943.\n"
          ]
        },
        {
          "output_type": "stream",
          "name": "stdout",
          "text": [
            "SCORE: 0.5267943897201418\n"
          ]
        },
        {
          "output_type": "stream",
          "name": "stderr",
          "text": [
            "[I 2024-03-15 03:23:46,665] Trial 69 finished with value: 0.5328713113854491 and parameters: {'max_depth': 10, 'gamma': 2.6060687766101003, 'reg_alpha': 51, 'reg_lambda': 0.29432685478544074, 'min_child_weight': 5, 'colsample_bytree': 0.6774778228471487, 'scale_pos_weight': 7}. Best is trial 69 with value: 0.5328713113854491.\n"
          ]
        },
        {
          "output_type": "stream",
          "name": "stdout",
          "text": [
            "SCORE: 0.5328713113854491\n"
          ]
        },
        {
          "output_type": "stream",
          "name": "stderr",
          "text": [
            "[I 2024-03-15 03:23:48,089] Trial 70 finished with value: 0.5336228540231617 and parameters: {'max_depth': 9, 'gamma': 2.5923346099546656, 'reg_alpha': 44, 'reg_lambda': 0.30282853642716007, 'min_child_weight': 5, 'colsample_bytree': 0.6842089431705691, 'scale_pos_weight': 7}. Best is trial 70 with value: 0.5336228540231617.\n"
          ]
        },
        {
          "output_type": "stream",
          "name": "stdout",
          "text": [
            "SCORE: 0.5336228540231617\n"
          ]
        },
        {
          "output_type": "stream",
          "name": "stderr",
          "text": [
            "[I 2024-03-15 03:23:49,428] Trial 71 finished with value: 0.5333977776624421 and parameters: {'max_depth': 9, 'gamma': 2.5846530525710207, 'reg_alpha': 40, 'reg_lambda': 0.29168370390496406, 'min_child_weight': 5, 'colsample_bytree': 0.780375334433184, 'scale_pos_weight': 7}. Best is trial 70 with value: 0.5336228540231617.\n"
          ]
        },
        {
          "output_type": "stream",
          "name": "stdout",
          "text": [
            "SCORE: 0.5333977776624421\n"
          ]
        },
        {
          "output_type": "stream",
          "name": "stderr",
          "text": [
            "[I 2024-03-15 03:23:50,675] Trial 72 finished with value: 0.5284033153267997 and parameters: {'max_depth': 8, 'gamma': 2.629986126473549, 'reg_alpha': 51, 'reg_lambda': 0.2963615459550823, 'min_child_weight': 4, 'colsample_bytree': 0.7677097214531903, 'scale_pos_weight': 7}. Best is trial 70 with value: 0.5336228540231617.\n"
          ]
        },
        {
          "output_type": "stream",
          "name": "stdout",
          "text": [
            "SCORE: 0.5284033153267997\n"
          ]
        },
        {
          "output_type": "stream",
          "name": "stderr",
          "text": [
            "[I 2024-03-15 03:23:52,230] Trial 73 finished with value: 0.5290954704568063 and parameters: {'max_depth': 9, 'gamma': 2.9125028163831335, 'reg_alpha': 45, 'reg_lambda': 0.14864234154331096, 'min_child_weight': 4, 'colsample_bytree': 0.6787536961742171, 'scale_pos_weight': 8}. Best is trial 70 with value: 0.5336228540231617.\n"
          ]
        },
        {
          "output_type": "stream",
          "name": "stdout",
          "text": [
            "SCORE: 0.5290954704568063\n"
          ]
        },
        {
          "output_type": "stream",
          "name": "stderr",
          "text": [
            "[I 2024-03-15 03:23:53,485] Trial 74 finished with value: 0.5221753909894399 and parameters: {'max_depth': 7, 'gamma': 2.620350517925177, 'reg_alpha': 67, 'reg_lambda': 0.22245979057057566, 'min_child_weight': 5, 'colsample_bytree': 0.7864229255087883, 'scale_pos_weight': 5}. Best is trial 70 with value: 0.5336228540231617.\n"
          ]
        },
        {
          "output_type": "stream",
          "name": "stdout",
          "text": [
            "SCORE: 0.5221753909894399\n"
          ]
        },
        {
          "output_type": "stream",
          "name": "stderr",
          "text": [
            "[I 2024-03-15 03:23:54,916] Trial 75 finished with value: 0.530474185895385 and parameters: {'max_depth': 9, 'gamma': 3.1170901022050206, 'reg_alpha': 40, 'reg_lambda': 0.3048616845384133, 'min_child_weight': 3, 'colsample_bytree': 0.7052174668246687, 'scale_pos_weight': 7}. Best is trial 70 with value: 0.5336228540231617.\n"
          ]
        },
        {
          "output_type": "stream",
          "name": "stdout",
          "text": [
            "SCORE: 0.530474185895385\n"
          ]
        },
        {
          "output_type": "stream",
          "name": "stderr",
          "text": [
            "[I 2024-03-15 03:23:56,332] Trial 76 finished with value: 0.5355647745503611 and parameters: {'max_depth': 10, 'gamma': 2.1538939278444427, 'reg_alpha': 50, 'reg_lambda': 0.25447858865174544, 'min_child_weight': 5, 'colsample_bytree': 0.8137008192236291, 'scale_pos_weight': 6}. Best is trial 76 with value: 0.5355647745503611.\n"
          ]
        },
        {
          "output_type": "stream",
          "name": "stdout",
          "text": [
            "SCORE: 0.5355647745503611\n"
          ]
        },
        {
          "output_type": "stream",
          "name": "stderr",
          "text": [
            "[I 2024-03-15 03:23:57,941] Trial 77 finished with value: 0.5343576034497396 and parameters: {'max_depth': 10, 'gamma': 2.1299319104020498, 'reg_alpha': 54, 'reg_lambda': 0.3679200832016313, 'min_child_weight': 5, 'colsample_bytree': 0.8164044949984889, 'scale_pos_weight': 8}. Best is trial 76 with value: 0.5355647745503611.\n"
          ]
        },
        {
          "output_type": "stream",
          "name": "stdout",
          "text": [
            "SCORE: 0.5343576034497396\n"
          ]
        },
        {
          "output_type": "stream",
          "name": "stderr",
          "text": [
            "[I 2024-03-15 03:23:59,464] Trial 78 finished with value: 0.5297115871351731 and parameters: {'max_depth': 10, 'gamma': 2.015859163034258, 'reg_alpha': 53, 'reg_lambda': 0.4302018454497172, 'min_child_weight': 5, 'colsample_bytree': 0.818990991891168, 'scale_pos_weight': 6}. Best is trial 76 with value: 0.5355647745503611.\n"
          ]
        },
        {
          "output_type": "stream",
          "name": "stdout",
          "text": [
            "SCORE: 0.5297115871351731\n"
          ]
        },
        {
          "output_type": "stream",
          "name": "stderr",
          "text": [
            "[I 2024-03-15 03:24:01,102] Trial 79 finished with value: 0.5360261859614337 and parameters: {'max_depth': 10, 'gamma': 2.467200699273992, 'reg_alpha': 46, 'reg_lambda': 0.37011357298731395, 'min_child_weight': 5, 'colsample_bytree': 0.7767818872663389, 'scale_pos_weight': 8}. Best is trial 79 with value: 0.5360261859614337.\n"
          ]
        },
        {
          "output_type": "stream",
          "name": "stdout",
          "text": [
            "SCORE: 0.5360261859614337\n"
          ]
        },
        {
          "output_type": "stream",
          "name": "stderr",
          "text": [
            "[I 2024-03-15 03:24:02,638] Trial 80 finished with value: 0.5324199089347342 and parameters: {'max_depth': 10, 'gamma': 2.4061112943443557, 'reg_alpha': 45, 'reg_lambda': 0.36413115764611614, 'min_child_weight': 5, 'colsample_bytree': 0.7780933515055264, 'scale_pos_weight': 7}. Best is trial 79 with value: 0.5360261859614337.\n"
          ]
        },
        {
          "output_type": "stream",
          "name": "stdout",
          "text": [
            "SCORE: 0.5324199089347342\n"
          ]
        },
        {
          "output_type": "stream",
          "name": "stderr",
          "text": [
            "[I 2024-03-15 03:24:04,392] Trial 81 finished with value: 0.5352689133894363 and parameters: {'max_depth': 10, 'gamma': 2.459011515804582, 'reg_alpha': 46, 'reg_lambda': 0.3643931059119551, 'min_child_weight': 5, 'colsample_bytree': 0.8291487993482592, 'scale_pos_weight': 7}. Best is trial 79 with value: 0.5360261859614337.\n"
          ]
        },
        {
          "output_type": "stream",
          "name": "stdout",
          "text": [
            "SCORE: 0.5352689133894363\n"
          ]
        },
        {
          "output_type": "stream",
          "name": "stderr",
          "text": [
            "[I 2024-03-15 03:24:05,770] Trial 82 finished with value: 0.5275627562306883 and parameters: {'max_depth': 8, 'gamma': 2.181128418000442, 'reg_alpha': 49, 'reg_lambda': 0.41554501277318495, 'min_child_weight': 6, 'colsample_bytree': 0.8267926262802681, 'scale_pos_weight': 6}. Best is trial 79 with value: 0.5360261859614337.\n"
          ]
        },
        {
          "output_type": "stream",
          "name": "stdout",
          "text": [
            "SCORE: 0.5275627562306883\n"
          ]
        },
        {
          "output_type": "stream",
          "name": "stderr",
          "text": [
            "[I 2024-03-15 03:24:07,395] Trial 83 finished with value: 0.5305857583980929 and parameters: {'max_depth': 10, 'gamma': 2.4633769006365087, 'reg_alpha': 44, 'reg_lambda': 0.5027614066115879, 'min_child_weight': 5, 'colsample_bytree': 0.838951097434067, 'scale_pos_weight': 8}. Best is trial 79 with value: 0.5360261859614337.\n"
          ]
        },
        {
          "output_type": "stream",
          "name": "stdout",
          "text": [
            "SCORE: 0.5305857583980929\n"
          ]
        },
        {
          "output_type": "stream",
          "name": "stderr",
          "text": [
            "[I 2024-03-15 03:24:08,848] Trial 84 finished with value: 0.537090408217106 and parameters: {'max_depth': 9, 'gamma': 1.8151287071087072, 'reg_alpha': 55, 'reg_lambda': 0.3716402074777068, 'min_child_weight': 6, 'colsample_bytree': 0.7801403120100053, 'scale_pos_weight': 7}. Best is trial 84 with value: 0.537090408217106.\n"
          ]
        },
        {
          "output_type": "stream",
          "name": "stdout",
          "text": [
            "SCORE: 0.537090408217106\n"
          ]
        },
        {
          "output_type": "stream",
          "name": "stderr",
          "text": [
            "[I 2024-03-15 03:24:10,332] Trial 85 finished with value: 0.5330248986923084 and parameters: {'max_depth': 9, 'gamma': 1.7924981816330618, 'reg_alpha': 52, 'reg_lambda': 0.3688194001100844, 'min_child_weight': 6, 'colsample_bytree': 0.8052461774606158, 'scale_pos_weight': 8}. Best is trial 84 with value: 0.537090408217106.\n"
          ]
        },
        {
          "output_type": "stream",
          "name": "stdout",
          "text": [
            "SCORE: 0.5330248986923084\n"
          ]
        },
        {
          "output_type": "stream",
          "name": "stderr",
          "text": [
            "[I 2024-03-15 03:24:11,706] Trial 86 finished with value: 0.5287201907507941 and parameters: {'max_depth': 7, 'gamma': 1.6865159512292731, 'reg_alpha': 54, 'reg_lambda': 0.37196365178667984, 'min_child_weight': 6, 'colsample_bytree': 0.806605700315344, 'scale_pos_weight': 8}. Best is trial 84 with value: 0.537090408217106.\n"
          ]
        },
        {
          "output_type": "stream",
          "name": "stdout",
          "text": [
            "SCORE: 0.5287201907507941\n"
          ]
        },
        {
          "output_type": "stream",
          "name": "stderr",
          "text": [
            "[I 2024-03-15 03:24:13,204] Trial 87 finished with value: 0.5285000635428326 and parameters: {'max_depth': 9, 'gamma': 1.8886458050079842, 'reg_alpha': 47, 'reg_lambda': 0.3165948279426911, 'min_child_weight': 7, 'colsample_bytree': 0.8133110343009186, 'scale_pos_weight': 7}. Best is trial 84 with value: 0.537090408217106.\n"
          ]
        },
        {
          "output_type": "stream",
          "name": "stdout",
          "text": [
            "SCORE: 0.5285000635428326\n"
          ]
        },
        {
          "output_type": "stream",
          "name": "stderr",
          "text": [
            "[I 2024-03-15 03:24:14,579] Trial 88 finished with value: 0.525819671561675 and parameters: {'max_depth': 8, 'gamma': 2.052245521172871, 'reg_alpha': 69, 'reg_lambda': 0.45561973829467733, 'min_child_weight': 6, 'colsample_bytree': 0.857120971641182, 'scale_pos_weight': 8}. Best is trial 84 with value: 0.537090408217106.\n"
          ]
        },
        {
          "output_type": "stream",
          "name": "stdout",
          "text": [
            "SCORE: 0.525819671561675\n"
          ]
        },
        {
          "output_type": "stream",
          "name": "stderr",
          "text": [
            "[I 2024-03-15 03:24:16,217] Trial 89 finished with value: 0.5306901146092229 and parameters: {'max_depth': 9, 'gamma': 2.1814728549030953, 'reg_alpha': 56, 'reg_lambda': 0.4054697113132147, 'min_child_weight': 6, 'colsample_bytree': 0.8325343745458597, 'scale_pos_weight': 7}. Best is trial 84 with value: 0.537090408217106.\n"
          ]
        },
        {
          "output_type": "stream",
          "name": "stdout",
          "text": [
            "SCORE: 0.5306901146092229\n"
          ]
        },
        {
          "output_type": "stream",
          "name": "stderr",
          "text": [
            "[I 2024-03-15 03:24:17,974] Trial 90 finished with value: 0.5327813733051905 and parameters: {'max_depth': 9, 'gamma': 1.770018048641573, 'reg_alpha': 62, 'reg_lambda': 0.3511590134413341, 'min_child_weight': 7, 'colsample_bytree': 0.63283956133733, 'scale_pos_weight': 9}. Best is trial 84 with value: 0.537090408217106.\n"
          ]
        },
        {
          "output_type": "stream",
          "name": "stdout",
          "text": [
            "SCORE: 0.5327813733051905\n"
          ]
        },
        {
          "output_type": "stream",
          "name": "stderr",
          "text": [
            "[I 2024-03-15 03:24:19,563] Trial 91 finished with value: 0.5362994814585798 and parameters: {'max_depth': 10, 'gamma': 2.435639787288397, 'reg_alpha': 49, 'reg_lambda': 0.3848297860305062, 'min_child_weight': 5, 'colsample_bytree': 0.7794428915067086, 'scale_pos_weight': 8}. Best is trial 84 with value: 0.537090408217106.\n"
          ]
        },
        {
          "output_type": "stream",
          "name": "stdout",
          "text": [
            "SCORE: 0.5362994814585798\n"
          ]
        },
        {
          "output_type": "stream",
          "name": "stderr",
          "text": [
            "[I 2024-03-15 03:24:21,009] Trial 92 finished with value: 0.5339344462477155 and parameters: {'max_depth': 10, 'gamma': 2.4766632350990805, 'reg_alpha': 51, 'reg_lambda': 0.32534154944240357, 'min_child_weight': 5, 'colsample_bytree': 0.7870070114105553, 'scale_pos_weight': 8}. Best is trial 84 with value: 0.537090408217106.\n"
          ]
        },
        {
          "output_type": "stream",
          "name": "stdout",
          "text": [
            "SCORE: 0.5339344462477155\n"
          ]
        },
        {
          "output_type": "stream",
          "name": "stderr",
          "text": [
            "[I 2024-03-15 03:24:22,394] Trial 93 finished with value: 0.5310672663101901 and parameters: {'max_depth': 8, 'gamma': 2.4353896063363725, 'reg_alpha': 47, 'reg_lambda': 0.3290528391198271, 'min_child_weight': 6, 'colsample_bytree': 0.7817394015227472, 'scale_pos_weight': 8}. Best is trial 84 with value: 0.537090408217106.\n"
          ]
        },
        {
          "output_type": "stream",
          "name": "stdout",
          "text": [
            "SCORE: 0.5310672663101901\n"
          ]
        },
        {
          "output_type": "stream",
          "name": "stderr",
          "text": [
            "[I 2024-03-15 03:24:23,851] Trial 94 finished with value: 0.5342283130451536 and parameters: {'max_depth': 9, 'gamma': 2.3123828650702287, 'reg_alpha': 57, 'reg_lambda': 0.3836419407682517, 'min_child_weight': 5, 'colsample_bytree': 0.7761765004927613, 'scale_pos_weight': 9}. Best is trial 84 with value: 0.537090408217106.\n"
          ]
        },
        {
          "output_type": "stream",
          "name": "stdout",
          "text": [
            "SCORE: 0.5342283130451536\n"
          ]
        },
        {
          "output_type": "stream",
          "name": "stderr",
          "text": [
            "[I 2024-03-15 03:24:25,369] Trial 95 finished with value: 0.5316066081728118 and parameters: {'max_depth': 10, 'gamma': 2.293739250737746, 'reg_alpha': 59, 'reg_lambda': 0.3899235596762373, 'min_child_weight': 5, 'colsample_bytree': 0.7521325191570072, 'scale_pos_weight': 9}. Best is trial 84 with value: 0.537090408217106.\n"
          ]
        },
        {
          "output_type": "stream",
          "name": "stdout",
          "text": [
            "SCORE: 0.5316066081728118\n"
          ]
        },
        {
          "output_type": "stream",
          "name": "stderr",
          "text": [
            "[I 2024-03-15 03:24:26,744] Trial 96 finished with value: 0.5311318286654553 and parameters: {'max_depth': 9, 'gamma': 3.2590153837840954, 'reg_alpha': 55, 'reg_lambda': 0.4089334512970435, 'min_child_weight': 5, 'colsample_bytree': 0.7764353829390268, 'scale_pos_weight': 9}. Best is trial 84 with value: 0.537090408217106.\n"
          ]
        },
        {
          "output_type": "stream",
          "name": "stdout",
          "text": [
            "SCORE: 0.5311318286654553\n"
          ]
        },
        {
          "output_type": "stream",
          "name": "stderr",
          "text": [
            "[I 2024-03-15 03:24:28,870] Trial 97 finished with value: 0.5363928443868472 and parameters: {'max_depth': 10, 'gamma': 1.195929083917389, 'reg_alpha': 49, 'reg_lambda': 0.4574335863819406, 'min_child_weight': 5, 'colsample_bytree': 0.7954558631200028, 'scale_pos_weight': 8}. Best is trial 84 with value: 0.537090408217106.\n"
          ]
        },
        {
          "output_type": "stream",
          "name": "stdout",
          "text": [
            "SCORE: 0.5363928443868472\n"
          ]
        },
        {
          "output_type": "stream",
          "name": "stderr",
          "text": [
            "[I 2024-03-15 03:24:30,349] Trial 98 finished with value: 0.5322250990737302 and parameters: {'max_depth': 10, 'gamma': 1.9957384396597295, 'reg_alpha': 64, 'reg_lambda': 0.5412579743762023, 'min_child_weight': 5, 'colsample_bytree': 0.7976608406001982, 'scale_pos_weight': 8}. Best is trial 84 with value: 0.537090408217106.\n"
          ]
        },
        {
          "output_type": "stream",
          "name": "stdout",
          "text": [
            "SCORE: 0.5322250990737302\n"
          ]
        },
        {
          "output_type": "stream",
          "name": "stderr",
          "text": [
            "[I 2024-03-15 03:24:32,533] Trial 99 finished with value: 0.5342961728367511 and parameters: {'max_depth': 12, 'gamma': 1.2955496928500487, 'reg_alpha': 60, 'reg_lambda': 0.48160476665854945, 'min_child_weight': 6, 'colsample_bytree': 0.8198272452821532, 'scale_pos_weight': 9}. Best is trial 84 with value: 0.537090408217106.\n"
          ]
        },
        {
          "output_type": "stream",
          "name": "stdout",
          "text": [
            "SCORE: 0.5342961728367511\n",
            "Score: 0.537090408217106\n",
            "Best hyperparameters: {'max_depth': 9, 'gamma': 1.8151287071087072, 'reg_alpha': 55, 'reg_lambda': 0.3716402074777068, 'min_child_weight': 6, 'colsample_bytree': 0.7801403120100053, 'scale_pos_weight': 7}\n"
          ]
        }
      ]
    },
    {
      "cell_type": "code",
      "source": [
        "study.best_trial"
      ],
      "metadata": {
        "colab": {
          "base_uri": "https://localhost:8080/"
        },
        "id": "N2hHeWdSszfY",
        "outputId": "2d03ca1d-25de-4c3b-b3ba-881ab26ba1e4"
      },
      "execution_count": 27,
      "outputs": [
        {
          "output_type": "execute_result",
          "data": {
            "text/plain": [
              "FrozenTrial(number=84, state=TrialState.COMPLETE, values=[0.537090408217106], datetime_start=datetime.datetime(2024, 3, 15, 3, 24, 7, 397661), datetime_complete=datetime.datetime(2024, 3, 15, 3, 24, 8, 847705), params={'max_depth': 9, 'gamma': 1.8151287071087072, 'reg_alpha': 55, 'reg_lambda': 0.3716402074777068, 'min_child_weight': 6, 'colsample_bytree': 0.7801403120100053, 'scale_pos_weight': 7}, user_attrs={}, system_attrs={}, intermediate_values={}, distributions={'max_depth': IntDistribution(high=18, log=False, low=3, step=1), 'gamma': FloatDistribution(high=9.0, log=False, low=1.0, step=None), 'reg_alpha': IntDistribution(high=180, log=False, low=40, step=1), 'reg_lambda': FloatDistribution(high=1.0, log=False, low=0.0, step=None), 'min_child_weight': IntDistribution(high=10, log=False, low=0, step=1), 'colsample_bytree': FloatDistribution(high=1.0, log=False, low=0.5, step=None), 'scale_pos_weight': IntDistribution(high=13, log=False, low=1, step=1)}, trial_id=84, value=None)"
            ]
          },
          "metadata": {},
          "execution_count": 27
        }
      ]
    },
    {
      "cell_type": "markdown",
      "source": [
        "# XGBOOST - Evaluation"
      ],
      "metadata": {
        "id": "eaqVAyRM3gz4"
      }
    },
    {
      "cell_type": "markdown",
      "source": [
        "Here we'll train a single model with the optimal parameters that we've identified during hyperparameter tuning.\n",
        "\n",
        "We'll make some assessments of this model and investigate the pros and cons of how it performs"
      ],
      "metadata": {
        "id": "y-fJD-Foqw7z"
      }
    },
    {
      "cell_type": "markdown",
      "source": [
        "### Model Training"
      ],
      "metadata": {
        "id": "FosRSZLe3jzQ"
      }
    },
    {
      "cell_type": "code",
      "source": [
        "trial.params"
      ],
      "metadata": {
        "colab": {
          "base_uri": "https://localhost:8080/"
        },
        "id": "eEwQO6rkrsyx",
        "outputId": "2d5fd0d6-52bb-4ed2-d43f-1e876370e592"
      },
      "execution_count": 28,
      "outputs": [
        {
          "output_type": "execute_result",
          "data": {
            "text/plain": [
              "{'max_depth': 9,\n",
              " 'gamma': 1.8151287071087072,\n",
              " 'reg_alpha': 55,\n",
              " 'reg_lambda': 0.3716402074777068,\n",
              " 'min_child_weight': 6,\n",
              " 'colsample_bytree': 0.7801403120100053,\n",
              " 'scale_pos_weight': 7}"
            ]
          },
          "metadata": {},
          "execution_count": 28
        }
      ]
    },
    {
      "cell_type": "code",
      "source": [
        "# We'll use the best parameters from hyperparam tuning instead of these hardcoded values\n",
        "# params = {\"objective\":\"binary:logistic\",\"tree_method\": \"gpu_hist\",  \"eval_metric\": \"aucpr\",'max_depth': 6, 'gamma': 3.5430275706752967,\n",
        "#                     'reg_alpha': 52, 'reg_lambda': 0.7003019217103305, 'min_child_weight':2,\n",
        "#                     'colsample_bytree':0.7905931339730543, 'scale_pos_weight':2}\n",
        "\n",
        "trial.params.update({\"objective\":\"binary:logistic\",\"tree_method\": \"hist\", \"device\": \"gpu\", \"eval_metric\": \"aucpr\"})\n",
        "\n",
        "n = 5000\n",
        "evals = [(dtrain, \"train\"), (dtest, \"validation\")]\n",
        "\n",
        "model = xgb.train(\n",
        "   params=trial.params,\n",
        "   dtrain=dtrain,\n",
        "   num_boost_round=n,\n",
        "   evals=evals,\n",
        "   verbose_eval=100,\n",
        "   early_stopping_rounds=100,\n",
        ")"
      ],
      "metadata": {
        "colab": {
          "base_uri": "https://localhost:8080/"
        },
        "id": "Qz8TDRupi765",
        "outputId": "b05b405c-2993-451a-ac08-536acfa9d92e"
      },
      "execution_count": 29,
      "outputs": [
        {
          "output_type": "stream",
          "name": "stdout",
          "text": [
            "[0]\ttrain-aucpr:0.29536\tvalidation-aucpr:0.28708\n",
            "[100]\ttrain-aucpr:0.59976\tvalidation-aucpr:0.53708\n",
            "[164]\ttrain-aucpr:0.59976\tvalidation-aucpr:0.53708\n"
          ]
        }
      ]
    },
    {
      "cell_type": "code",
      "source": [
        "model.best_score"
      ],
      "metadata": {
        "colab": {
          "base_uri": "https://localhost:8080/"
        },
        "id": "1Ww5h9cIDIX0",
        "outputId": "c994ed9f-a62a-4c5d-d2fc-34de7d9c51de"
      },
      "execution_count": 30,
      "outputs": [
        {
          "output_type": "execute_result",
          "data": {
            "text/plain": [
              "0.537090408217106"
            ]
          },
          "metadata": {},
          "execution_count": 30
        }
      ]
    },
    {
      "cell_type": "markdown",
      "source": [
        "### Model Evaluation"
      ],
      "metadata": {
        "id": "8W1rkP_f3o3H"
      }
    },
    {
      "cell_type": "code",
      "source": [
        "y_pred = model.predict(dtest)"
      ],
      "metadata": {
        "id": "MAfO3lV9lTi6"
      },
      "execution_count": 31,
      "outputs": []
    },
    {
      "cell_type": "code",
      "source": [
        "# y_pred = np.array([1. if y_i > 0.39 else 0. for y_i in y_pred])"
      ],
      "metadata": {
        "id": "25pLWcwkW5oF"
      },
      "execution_count": null,
      "outputs": []
    },
    {
      "cell_type": "code",
      "source": [
        "rmse = mean_squared_error(y_test, y_pred.round(), squared=False)\n",
        "\n",
        "print(f\"RMSE of the base model: {rmse:.3f}\")"
      ],
      "metadata": {
        "id": "GpeSZkVgj_aI",
        "colab": {
          "base_uri": "https://localhost:8080/"
        },
        "outputId": "9c93c739-14a8-4dfc-b325-d473756dd992"
      },
      "execution_count": 32,
      "outputs": [
        {
          "output_type": "stream",
          "name": "stdout",
          "text": [
            "RMSE of the base model: 0.424\n"
          ]
        }
      ]
    },
    {
      "cell_type": "code",
      "source": [
        "from sklearn.metrics import accuracy_score\n",
        "\n",
        "print('XGBoost model AUC-PR Score: {0:0.4f}'. format(model.best_score))\n",
        "print('XGBoost model accuracy score: {0:0.4f}'. format(accuracy_score(y_test, y_pred.round())))"
      ],
      "metadata": {
        "id": "ekeuXfYXmrt2",
        "colab": {
          "base_uri": "https://localhost:8080/"
        },
        "outputId": "fbbd052e-549b-448b-e397-2e91b7691245"
      },
      "execution_count": 33,
      "outputs": [
        {
          "output_type": "stream",
          "name": "stdout",
          "text": [
            "XGBoost model AUC-PR Score: 0.5371\n",
            "XGBoost model accuracy score: 0.8200\n"
          ]
        }
      ]
    },
    {
      "cell_type": "code",
      "source": [
        "print(classification_report(y_test, y_pred.round()))"
      ],
      "metadata": {
        "id": "uyxo_9dtR1Fb",
        "colab": {
          "base_uri": "https://localhost:8080/"
        },
        "outputId": "bcf9784f-4520-41b3-e2e0-23a13843da19"
      },
      "execution_count": 34,
      "outputs": [
        {
          "output_type": "stream",
          "name": "stdout",
          "text": [
            "              precision    recall  f1-score   support\n",
            "\n",
            "           0       0.97      0.83      0.89     88171\n",
            "           1       0.32      0.77      0.46      9624\n",
            "\n",
            "    accuracy                           0.82     97795\n",
            "   macro avg       0.65      0.80      0.67     97795\n",
            "weighted avg       0.91      0.82      0.85     97795\n",
            "\n"
          ]
        }
      ]
    },
    {
      "cell_type": "code",
      "source": [
        "confusion_matrix(y_test, y_pred.round())\n",
        "\n",
        "cm = confusion_matrix(y_test, y_pred.round()).T\n",
        "cm = cm.astype('float')/cm.sum(axis=0)\n",
        "\n",
        "fig, ax = plt.subplots()\n",
        "sns.heatmap(cm, annot=True, cmap='Blues',fmt='g');\n",
        "ax.set_xlabel('True Label')\n",
        "ax.set_ylabel('Predicted Label')\n",
        "ax.xaxis.set_label_position('top')"
      ],
      "metadata": {
        "id": "_FrgaDVmmkPj",
        "colab": {
          "base_uri": "https://localhost:8080/",
          "height": 446
        },
        "outputId": "88395a29-e7ab-4102-ab79-52c324555253"
      },
      "execution_count": 35,
      "outputs": [
        {
          "output_type": "display_data",
          "data": {
            "text/plain": [
              "<Figure size 640x480 with 2 Axes>"
            ],
            "image/png": "[encoded data removed]"
          },
          "metadata": {}
        }
      ]
    },
    {
      "cell_type": "code",
      "source": [
        "fpr, tpr, _ = roc_curve(y_test, y_pred)\n",
        "roc_auc = auc(fpr, tpr)\n",
        "\n",
        "plt.figure()\n",
        "lw = 2\n",
        "plt.plot(fpr, tpr, color='black',\n",
        "lw=lw, label='AUC = %0.2f)' % roc_auc)\n",
        "plt.plot([0, 1], [0, 1], color='blue', lw=lw, linestyle='--')\n",
        "plt.xlim([-0.01, 1.0])\n",
        "plt.ylim([0.0, 1.01])\n",
        "plt.xlabel('FPR')\n",
        "plt.ylabel('TPR')\n",
        "plt.title('ROC curve')\n",
        "plt.legend(loc=\"lower right\")\n",
        "plt.show()"
      ],
      "metadata": {
        "colab": {
          "base_uri": "https://localhost:8080/",
          "height": 472
        },
        "id": "CRAHO4NqthTk",
        "outputId": "ee97bb52-bb04-42a5-f623-57ceb39abbaa"
      },
      "execution_count": 36,
      "outputs": [
        {
          "output_type": "display_data",
          "data": {
            "text/plain": [
              "<Figure size 640x480 with 1 Axes>"
            ],
            "image/png": "[encoded data removed]"
          },
          "metadata": {}
        }
      ]
    },
    {
      "cell_type": "code",
      "source": [
        "xgb.plot_importance(model)\n",
        "plt.show()"
      ],
      "metadata": {
        "colab": {
          "base_uri": "https://localhost:8080/",
          "height": 472
        },
        "id": "HobqEPjMvGsI",
        "outputId": "9668b1c8-15a4-47e1-a289-83a1024e3e64"
      },
      "execution_count": 37,
      "outputs": [
        {
          "output_type": "display_data",
          "data": {
            "text/plain": [
              "<Figure size 640x480 with 1 Axes>"
            ],
            "image/png": "[encoded data removed]"
          },
          "metadata": {}
        }
      ]
    },
    {
      "cell_type": "code",
      "source": [
        "model.save_model('default_predictor_xgb.json')"
      ],
      "metadata": {
        "id": "MTb7-0Lk84_7"
      },
      "execution_count": 38,
      "outputs": []
    },
    {
      "cell_type": "code",
      "source": [
        "import pickle\n",
        "with open(\"default_predictor_xgb.pkl\", \"wb\") as file:\n",
        "    pickle.dump(model, file)"
      ],
      "metadata": {
        "id": "x0tkA1wMKHqb"
      },
      "execution_count": 40,
      "outputs": []
    },
    {
      "cell_type": "code",
      "source": [],
      "metadata": {
        "id": "oFV5_5pXLtpC"
      },
      "execution_count": null,
      "outputs": []
    }
  ]
}